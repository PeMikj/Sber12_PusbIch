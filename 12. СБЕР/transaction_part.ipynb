{
 "cells": [
  {
   "cell_type": "code",
   "execution_count": 1,
   "id": "2d11335e",
   "metadata": {
    "id": "2d11335e",
    "tags": []
   },
   "outputs": [],
   "source": [
    "#!pip3 install pytorch-lifestream"
   ]
  },
  {
   "cell_type": "code",
   "execution_count": 1,
   "id": "9iaxpIoS1AgF",
   "metadata": {
    "id": "9iaxpIoS1AgF"
   },
   "outputs": [],
   "source": [
    "import os\n",
    "os.environ[\"OMP_NUM_THREADS\"] = \"4\"\n",
    "\n",
    "import pandas as pd\n",
    "import numpy as np\n",
    "import torch\n",
    "from functools import partial\n",
    "import pytorch_lightning as pl\n",
    "import warnings\n",
    "warnings.filterwarnings(\"ignore\")\n",
    "\n",
    "from sklearn.model_selection import StratifiedKFold, train_test_split, GroupKFold\n",
    "from sklearn.metrics import roc_auc_score\n",
    "\n",
    "from torch.utils.data import DataLoader\n",
    "\n",
    "from ptls.data_load.datasets import MemoryMapDataset\n",
    "from ptls.data_load.iterable_processing.iterable_seq_len_limit import ISeqLenLimit\n",
    "from ptls.data_load.iterable_processing.to_torch_tensor import ToTorch\n",
    "from ptls.data_load.iterable_processing.feature_filter import FeatureFilter\n",
    "from ptls.nn import TrxEncoder, RnnSeqEncoder\n",
    "from ptls.frames.coles import CoLESModule\n",
    "from ptls.data_load.iterable_processing import SeqLenFilter\n",
    "from ptls.frames.coles import ColesIterableDataset\n",
    "from ptls.frames.coles.split_strategy import SampleSlices\n",
    "from ptls.frames import PtlsDataModule\n",
    "from ptls.preprocessing import PandasDataPreprocessor\n",
    "from ptls.data_load.utils import collate_feature_dict\n",
    "from ptls.data_load.iterable_processing_dataset import IterableProcessingDataset\n",
    "\n",
    "from catboost import CatBoostClassifier\n",
    "\n",
    "from tqdm.auto import tqdm\n",
    "import lightgbm as ltb\n",
    "\n",
    "import gc"
   ]
  },
  {
   "cell_type": "markdown",
   "id": "4b11ff44",
   "metadata": {
    "id": "4b11ff44"
   },
   "source": [
    "# Data preprocessing"
   ]
  },
  {
   "cell_type": "code",
   "execution_count": 2,
   "id": "2840f9d6-d3f4-4c51-aaf9-a02e8d1fd538",
   "metadata": {
    "id": "2840f9d6-d3f4-4c51-aaf9-a02e8d1fd538"
   },
   "outputs": [],
   "source": [
    "transactions_train = pd.read_parquet(\"./Hackathon/trx_train.parquet\")\n",
    "#transactions_test = pd.read_parquet(\"./Hackathon/trx_test.parquet\")"
   ]
  },
  {
   "cell_type": "code",
   "execution_count": 3,
   "id": "de7de4f5-9e75-4d53-bb61-75da07d48dae",
   "metadata": {},
   "outputs": [
    {
     "data": {
      "text/plain": [
       "array(['51f88b707d9c8766cdbdfe799ba0fafd8f5b8034b08c46f0e2d0e2c2139b4b94',\n",
       "       '522256f58adeaf13fbf098859fe5627f663ab586cb71e73f31ca2516062ef219',\n",
       "       '522ff0793af20dff019519fddea3117f8858c9823ba36402914c3105d2370e6a',\n",
       "       ...,\n",
       "       '30f46a0b5caca4e9816dc93af79cd5662c416d81aa90069ebcb6b78d2d53accf',\n",
       "       '30f6deab32f4b4710dd822551b0e6a3416fe2f807515321fd21be5a1842d46fe',\n",
       "       '31084e097aab4237336f988ed5e667318409b4dc7afc04159caeb27a0433b455'],\n",
       "      dtype=object)"
      ]
     },
     "execution_count": 3,
     "metadata": {},
     "output_type": "execute_result"
    }
   ],
   "source": [
    "transactions_train.client_id.unique()"
   ]
  },
  {
   "cell_type": "code",
   "execution_count": 4,
   "id": "699b4a67-7cc3-4680-b24a-052b3432e510",
   "metadata": {},
   "outputs": [],
   "source": [
    "thclients = transactions_train.client_id.unique()[:400000]"
   ]
  },
  {
   "cell_type": "code",
   "execution_count": 7,
   "id": "dee6e60e-36d8-4e7f-9941-ec8f7f2ddafc",
   "metadata": {},
   "outputs": [],
   "source": [
    "transactions_train = transactions_train[transactions_train['client_id'].isin(thclients)]"
   ]
  },
  {
   "cell_type": "code",
   "execution_count": 14,
   "id": "ade92a4b-f6a3-45c2-8c42-cf61afcdbaae",
   "metadata": {
    "id": "ade92a4b-f6a3-45c2-8c42-cf61afcdbaae",
    "outputId": "a81b3868-29e6-4a03-cd02-2d9e795767db"
   },
   "outputs": [
    {
     "name": "stdout",
     "output_type": "stream",
     "text": [
      "CPU times: user 9min 13s, sys: 1min 6s, total: 10min 19s\n",
      "Wall time: 10min 24s\n"
     ]
    }
   ],
   "source": [
    "%%time\n",
    "\n",
    "preprocessor = PandasDataPreprocessor(\n",
    "    col_id=\"client_id\",\n",
    "    col_event_time=\"event_time\",\n",
    "    event_time_transformation=\"dt_to_timestamp\",\n",
    "    cols_category=[\"event_type\",\n",
    "                   \"event_subtype\",\n",
    "                   \"currency\",\n",
    "                   \"src_type11\",\n",
    "                   \"src_type12\",\n",
    "                   \"dst_type11\",\n",
    "                   \"dst_type12\",\n",
    "                   \"src_type21\",\n",
    "                   \"src_type22\",\n",
    "                   \"src_type31\",\n",
    "                   \"src_type32\"],\n",
    "    cols_identity=\"amount\",\n",
    "    return_records=False,\n",
    ")\n",
    "\n",
    "processed_train = preprocessor.fit_transform(transactions_train)\n"
   ]
  },
  {
   "cell_type": "code",
   "execution_count": 10,
   "id": "f17d3546-12b5-4242-b8a2-8397cbb0adda",
   "metadata": {},
   "outputs": [],
   "source": [
    "target_train = pd.read_parquet(\"./Hackathon/train_target.parquet\")"
   ]
  },
  {
   "cell_type": "code",
   "execution_count": 11,
   "id": "4978f063-32d9-4c39-9a49-1d32b1801a0a",
   "metadata": {},
   "outputs": [],
   "source": [
    "target_train = target_train[target_train['client_id'].isin(thclients)]"
   ]
  },
  {
   "cell_type": "code",
   "execution_count": 12,
   "id": "22b7f016-2da0-4695-b663-780421e6d224",
   "metadata": {
    "id": "22b7f016-2da0-4695-b663-780421e6d224"
   },
   "outputs": [],
   "source": [
    "target_preprocessor = PandasDataPreprocessor(\n",
    "    col_id=\"client_id\",\n",
    "    col_event_time=\"mon\",\n",
    "    event_time_transformation=\"dt_to_timestamp\",\n",
    "    cols_identity=[\"target_1\", \"target_2\", \"target_3\", \"target_4\"],\n",
    "    return_records=False,\n",
    ")\n",
    "\n",
    "processed_target = target_preprocessor.fit_transform(target_train)"
   ]
  },
  {
   "cell_type": "code",
   "execution_count": 9,
   "id": "aec46f63-b964-4fd1-b9f1-d1504bf7092f",
   "metadata": {
    "id": "aec46f63-b964-4fd1-b9f1-d1504bf7092f"
   },
   "outputs": [],
   "source": [
    "test_target_b = pd.read_parquet(\"./Hackathon/test_target_b.parquet\")"
   ]
  },
  {
   "cell_type": "code",
   "execution_count": 11,
   "id": "5da66568-5480-4538-9216-e7f17ecbaeb2",
   "metadata": {},
   "outputs": [
    {
     "data": {
      "text/plain": [
       "0"
      ]
     },
     "execution_count": 11,
     "metadata": {},
     "output_type": "execute_result"
    }
   ],
   "source": [
    "del transactions_train, transactions_test, target_train\n",
    "gc.collect()"
   ]
  },
  {
   "cell_type": "markdown",
   "id": "fd06607a",
   "metadata": {
    "id": "fd06607a"
   },
   "source": [
    "**Обработка датасета:**\n",
    "\n",
    "- Транзакции, у которых размер < min_seq_len выкидываются\n",
    "- Транзакции, у которых длина > max_seq_len, обрезаются и конвертируются в torch.tensor\n",
    "- Не нужные для CoLES фичи удаляются"
   ]
  },
  {
   "cell_type": "code",
   "execution_count": 15,
   "id": "a97b4ffb-490d-4591-a011-38c845430377",
   "metadata": {
    "id": "a97b4ffb-490d-4591-a011-38c845430377"
   },
   "outputs": [],
   "source": [
    "train = MemoryMapDataset(\n",
    "    data=processed_train.to_dict(\"records\"),\n",
    "    i_filters=[\n",
    "        FeatureFilter(drop_feature_names=['client_id', 'target_1', 'target_2', 'target_3', 'target_4']),\n",
    "        SeqLenFilter(min_seq_len=32),\n",
    "        ISeqLenLimit(max_seq_len=4096),\n",
    "        ToTorch()\n",
    "    ]\n",
    ")\n",
    "\n",
    "test = MemoryMapDataset(\n",
    "    data=processed_test.to_dict(\"records\"),\n",
    "    i_filters=[\n",
    "        FeatureFilter(drop_feature_names=['client_id', 'target_1', 'target_2', 'target_3', 'target_4']),\n",
    "        SeqLenFilter(min_seq_len=32),\n",
    "        ISeqLenLimit(max_seq_len=4096),\n",
    "        ToTorch()\n",
    "    ]\n",
    ")"
   ]
  },
  {
   "cell_type": "code",
   "execution_count": 16,
   "id": "a1a926ca",
   "metadata": {
    "id": "a1a926ca",
    "tags": []
   },
   "outputs": [],
   "source": [
    "train_ds = ColesIterableDataset(\n",
    "    data=train,\n",
    "    splitter=SampleSlices(\n",
    "        split_count=5,\n",
    "        cnt_min=32,\n",
    "        cnt_max=180\n",
    "    )\n",
    ")\n",
    "\n",
    "valid_ds = ColesIterableDataset(\n",
    "    data=test,\n",
    "    splitter=SampleSlices(\n",
    "        split_count=5,\n",
    "        cnt_min=32,\n",
    "        cnt_max=180\n",
    "    )\n",
    ")"
   ]
  },
  {
   "cell_type": "code",
   "execution_count": 17,
   "id": "baac6b81",
   "metadata": {
    "id": "baac6b81",
    "tags": []
   },
   "outputs": [],
   "source": [
    "train_dl = PtlsDataModule(\n",
    "    train_data=train_ds,\n",
    "    train_num_workers=8,\n",
    "    train_batch_size=256,\n",
    "    valid_data=valid_ds,\n",
    "    valid_num_workers=8,\n",
    "    valid_batch_size=256\n",
    ")"
   ]
  },
  {
   "cell_type": "markdown",
   "id": "2da65edc",
   "metadata": {
    "id": "2da65edc"
   },
   "source": [
    "# Model"
   ]
  },
  {
   "cell_type": "markdown",
   "id": "190206c4",
   "metadata": {
    "id": "190206c4"
   },
   "source": [
    "- numeric_values обрабатываются как BatchNorm+Linear\n",
    "- embedidngs - nn.Embedidngs"
   ]
  },
  {
   "cell_type": "code",
   "execution_count": 18,
   "id": "3e48607f",
   "metadata": {
    "id": "3e48607f",
    "tags": []
   },
   "outputs": [],
   "source": [
    "trx_encoder_params = dict(\n",
    "    embeddings_noise=0.003,\n",
    "    numeric_values={'amount': 'log'},\n",
    "    embeddings={\n",
    "        \"event_type\": {'in': preprocessor.get_category_dictionary_sizes()[\"event_type\"], \"out\": 24},\n",
    "        \"event_subtype\": {'in': preprocessor.get_category_dictionary_sizes()[\"event_subtype\"], \"out\": 24},\n",
    "        'src_type11': {'in': preprocessor.get_category_dictionary_sizes()[\"src_type11\"], 'out': 24},\n",
    "        'src_type12': {'in': preprocessor.get_category_dictionary_sizes()[\"src_type12\"], 'out': 24},\n",
    "        'dst_type11': {'in': preprocessor.get_category_dictionary_sizes()[\"dst_type11\"], 'out': 24},\n",
    "        'dst_type12': {'in': preprocessor.get_category_dictionary_sizes()[\"dst_type12\"], 'out': 24},\n",
    "        'src_type22': {'in': preprocessor.get_category_dictionary_sizes()[\"src_type22\"], 'out': 24},\n",
    "        'src_type31': {'in': preprocessor.get_category_dictionary_sizes()[\"src_type31\"], 'out': 24},\n",
    "        'src_type32': {'in': preprocessor.get_category_dictionary_sizes()[\"src_type32\"], 'out': 24},\n",
    "      }\n",
    ")"
   ]
  },
  {
   "cell_type": "markdown",
   "id": "0c0bfdd2",
   "metadata": {
    "id": "0c0bfdd2"
   },
   "source": [
    "- **TrxEncoder** - обрабатывает каждую тразнакцию (строит для неё эмбеддиг)\n",
    "- **SeqEncoder** - обрабатывает последовательность"
   ]
  },
  {
   "cell_type": "code",
   "execution_count": 19,
   "id": "bd8b30c9",
   "metadata": {
    "id": "bd8b30c9",
    "tags": []
   },
   "outputs": [],
   "source": [
    "seq_encoder = RnnSeqEncoder(\n",
    "    trx_encoder=TrxEncoder(**trx_encoder_params),\n",
    "    hidden_size=256,\n",
    "    type='gru',\n",
    ")"
   ]
  },
  {
   "cell_type": "code",
   "execution_count": 20,
   "id": "7ae75c20",
   "metadata": {
    "id": "7ae75c20",
    "tags": []
   },
   "outputs": [],
   "source": [
    "model = CoLESModule(\n",
    "    seq_encoder=seq_encoder,\n",
    "    optimizer_partial=partial(torch.optim.Adam, lr=0.001),\n",
    "    lr_scheduler_partial=partial(torch.optim.lr_scheduler.StepLR, step_size=3, gamma=0.9025)\n",
    ")"
   ]
  },
  {
   "cell_type": "markdown",
   "id": "55b59d8a",
   "metadata": {
    "id": "55b59d8a"
   },
   "source": [
    "# Train"
   ]
  },
  {
   "cell_type": "code",
   "execution_count": 21,
   "id": "43b7d28e",
   "metadata": {
    "id": "43b7d28e",
    "tags": []
   },
   "outputs": [
    {
     "name": "stderr",
     "output_type": "stream",
     "text": [
      "Trainer will use only 1 of 2 GPUs because it is running inside an interactive / notebook environment. You may try to set `Trainer(devices=2)` but please note that multi-GPU inside interactive / notebook environments is considered experimental and unstable. Your mileage may vary.\n",
      "GPU available: True (cuda), used: True\n",
      "TPU available: False, using: 0 TPU cores\n",
      "IPU available: False, using: 0 IPUs\n",
      "HPU available: False, using: 0 HPUs\n"
     ]
    }
   ],
   "source": [
    "trainer = pl.Trainer(\n",
    "    max_epochs=3,\n",
    "    limit_val_batches=5000,\n",
    "    #gpus=[0],\n",
    "    enable_progress_bar=True,\n",
    "    gradient_clip_val=0.5,\n",
    "    logger=pl.loggers.TensorBoardLogger(\n",
    "        save_dir='./logdir',\n",
    "        name='baseline_result'\n",
    "    ),\n",
    "    callbacks=[\n",
    "        pl.callbacks.LearningRateMonitor(logging_interval='step'),\n",
    "        pl.callbacks.ModelCheckpoint(every_n_train_steps=5000, save_top_k=-1),\n",
    "    ]\n",
    ")"
   ]
  },
  {
   "cell_type": "code",
   "execution_count": 22,
   "id": "e78dcf91",
   "metadata": {
    "id": "e78dcf91",
    "tags": []
   },
   "outputs": [
    {
     "name": "stderr",
     "output_type": "stream",
     "text": [
      "You are using a CUDA device ('NVIDIA GeForce RTX 3090') that has Tensor Cores. To properly utilize them, you should set `torch.set_float32_matmul_precision('medium' | 'high')` which will trade-off precision for performance. For more details, read https://pytorch.org/docs/stable/generated/torch.set_float32_matmul_precision.html#torch.set_float32_matmul_precision\n",
      "LOCAL_RANK: 0 - CUDA_VISIBLE_DEVICES: [0,1]\n",
      "\n",
      "  | Name               | Type            | Params\n",
      "-------------------------------------------------------\n",
      "0 | _loss              | ContrastiveLoss | 0     \n",
      "1 | _seq_encoder       | RnnSeqEncoder   | 395 K \n",
      "2 | _validation_metric | BatchRecallTopK | 0     \n",
      "3 | _head              | Head            | 0     \n",
      "-------------------------------------------------------\n",
      "395 K     Trainable params\n",
      "0         Non-trainable params\n",
      "395 K     Total params\n",
      "1.583     Total estimated model params size (MB)\n"
     ]
    },
    {
     "data": {
      "application/vnd.jupyter.widget-view+json": {
       "model_id": "",
       "version_major": 2,
       "version_minor": 0
      },
      "text/plain": [
       "Sanity Checking: |          | 0/? [00:00<?, ?it/s]"
      ]
     },
     "metadata": {},
     "output_type": "display_data"
    },
    {
     "data": {
      "application/vnd.jupyter.widget-view+json": {
       "model_id": "f6dd46871a484cb7b459e7e215849b26",
       "version_major": 2,
       "version_minor": 0
      },
      "text/plain": [
       "Training: |          | 0/? [00:00<?, ?it/s]"
      ]
     },
     "metadata": {},
     "output_type": "display_data"
    },
    {
     "data": {
      "application/vnd.jupyter.widget-view+json": {
       "model_id": "",
       "version_major": 2,
       "version_minor": 0
      },
      "text/plain": [
       "Validation: |          | 0/? [00:00<?, ?it/s]"
      ]
     },
     "metadata": {},
     "output_type": "display_data"
    },
    {
     "data": {
      "application/vnd.jupyter.widget-view+json": {
       "model_id": "",
       "version_major": 2,
       "version_minor": 0
      },
      "text/plain": [
       "Validation: |          | 0/? [00:00<?, ?it/s]"
      ]
     },
     "metadata": {},
     "output_type": "display_data"
    },
    {
     "data": {
      "application/vnd.jupyter.widget-view+json": {
       "model_id": "",
       "version_major": 2,
       "version_minor": 0
      },
      "text/plain": [
       "Validation: |          | 0/? [00:00<?, ?it/s]"
      ]
     },
     "metadata": {},
     "output_type": "display_data"
    },
    {
     "name": "stderr",
     "output_type": "stream",
     "text": [
      "`Trainer.fit` stopped: `max_epochs=3` reached.\n"
     ]
    }
   ],
   "source": [
    "trainer.fit(model, train_dl)"
   ]
  },
  {
   "cell_type": "code",
   "execution_count": null,
   "id": "4f12c540-871e-4b12-8d13-3aa4f344b772",
   "metadata": {
    "id": "4f12c540-871e-4b12-8d13-3aa4f344b772"
   },
   "outputs": [],
   "source": [
    "torch.save(model.state_dict(), './model400K.pt')"
   ]
  },
  {
   "cell_type": "code",
   "execution_count": 15,
   "id": "88a51a79-27b7-4294-82f3-e025d0d59857",
   "metadata": {},
   "outputs": [
    {
     "data": {
      "text/plain": [
       "<All keys matched successfully>"
      ]
     },
     "execution_count": 15,
     "metadata": {},
     "output_type": "execute_result"
    }
   ],
   "source": [
    "model.load_state_dict(torch.load('model400K.pt'))"
   ]
  },
  {
   "cell_type": "markdown",
   "id": "adb01664",
   "metadata": {
    "id": "adb01664"
   },
   "source": [
    "# Inference"
   ]
  },
  {
   "cell_type": "markdown",
   "id": "9fc52ded",
   "metadata": {
    "id": "9fc52ded"
   },
   "source": [
    "Для каждого пользователя известно 12 таргетов, инференс происходит следующим образом:\n",
    "\n",
    "Чтобы не происходило лика нужно для каждого клиента делать срез до текущего месяца:\n",
    "\n",
    "Берутся все тразнакции за первый месяц, им соответствует 1-ый таргет из 12,\n",
    "потом берутся транзакции за первый и второй месяц пользователя и им соотвествует 2-ой таргет и так далее.\n",
    "То есть для данного пользователя, имеющего транзакции за год, мы можем получить 12 эмбеддингов, каждому из которых соответствует 1 таргет"
   ]
  },
  {
   "cell_type": "code",
   "execution_count": 48,
   "id": "5f50e010",
   "metadata": {
    "id": "5f50e010",
    "tags": []
   },
   "outputs": [],
   "source": [
    "class GetSplit(IterableProcessingDataset):\n",
    "    def __init__(\n",
    "        self,\n",
    "        start_month,\n",
    "        end_month,\n",
    "        year=2022,\n",
    "        col_id='client_id',\n",
    "        col_time='event_time'\n",
    "    ):\n",
    "        super().__init__()\n",
    "        self.start_month = start_month\n",
    "        self.end_month = end_month\n",
    "        self._year = year\n",
    "        self._col_id = col_id\n",
    "        self._col_time = col_time\n",
    "\n",
    "    def __iter__(self):\n",
    "        for rec in self._src:\n",
    "            for month in range(self.start_month, self.end_month+1):\n",
    "                features = rec[0] if type(rec) is tuple else rec\n",
    "                features = features.copy()\n",
    "\n",
    "                if month == 12:\n",
    "                    month_event_time = datetime(self._year + 1, 1, 1).timestamp()\n",
    "                else:\n",
    "                    month_event_time = datetime(self._year, month + 1, 1).timestamp()\n",
    "\n",
    "                year_event_time = datetime(self._year, 1, 1).timestamp()\n",
    "\n",
    "                mask = features[self._col_time] < month_event_time\n",
    "\n",
    "                for key, tensor in features.items():\n",
    "                    if key.startswith('target'):\n",
    "                        features[key] = tensor[month - 1].tolist()\n",
    "                    elif key != self._col_id:\n",
    "                        features[key] = tensor[mask]\n",
    "\n",
    "                features[self._col_id] += '_month=' + str(month)\n",
    "\n",
    "                yield features\n",
    "\n",
    "def collate_feature_dict_with_target(batch, col_id='client_id', col_time='event_time',  targets=False):\n",
    "    batch_ids = []\n",
    "    events=[]\n",
    "    target_cols = []\n",
    "    for sample in batch:\n",
    "        batch_ids.append(sample[col_id])\n",
    "        events.append(sample[col_time].cpu().numpy())\n",
    "        del sample[col_id]\n",
    "        del sample[col_time]\n",
    "\n",
    "        if targets:\n",
    "            target_cols.append([sample[f'target_{i}'] for i in range(1, 5)])\n",
    "            del sample['target_1']\n",
    "            del sample['target_2']\n",
    "            del sample['target_3']\n",
    "            del sample['target_4']\n",
    "    #print(type(batch_ids[0]), type(events[0]))\n",
    "    padded_batch = collate_feature_dict(batch)\n",
    "    if targets:\n",
    "        return padded_batch, batch_ids, events, target_cols\n",
    "    return padded_batch, batch_ids\n",
    "\n",
    "\n",
    "class InferenceModuleMultimodal(pl.LightningModule):\n",
    "    def __init__(self, model, pandas_output=True, drop_seq_features=True, model_out_name='out'):\n",
    "        super().__init__()\n",
    "\n",
    "        self.model = model\n",
    "        self.pandas_output = pandas_output\n",
    "        self.drop_seq_features = drop_seq_features\n",
    "        self.model_out_name = model_out_name\n",
    "\n",
    "    def forward(self, x):\n",
    "        x_len = len(x)\n",
    "        if x_len == 4:\n",
    "            x, batch_ids, events, target_cols = x\n",
    "        else:\n",
    "            x, batch_ids = x\n",
    "\n",
    "        out = self.model(x)\n",
    "        if x_len == 4:\n",
    "            target_cols = torch.tensor(target_cols)\n",
    "            #events = torch.tensor(events)\n",
    "            x_out = {\n",
    "                'client_id': batch_ids,\n",
    "                #'event_time': events,\n",
    "                'target_1': target_cols[:, 0],\n",
    "                'target_2': target_cols[:, 1],\n",
    "                'target_3': target_cols[:, 2],\n",
    "                'target_4': target_cols[:, 3],\n",
    "                self.model_out_name: out\n",
    "            }\n",
    "        else:\n",
    "            x_out = {\n",
    "                'client_id': batch_ids,\n",
    "                self.model_out_name: out\n",
    "            }\n",
    "        torch.cuda.empty_cache()\n",
    "\n",
    "        if self.pandas_output:\n",
    "            return self.to_pandas(x_out)\n",
    "        return x_out\n",
    "\n",
    "    @staticmethod\n",
    "    def to_pandas(x):\n",
    "        expand_cols = []\n",
    "        scalar_features = {}\n",
    "\n",
    "        for k, v in x.items():\n",
    "            if type(v) is torch.Tensor:\n",
    "                v = v.cpu().numpy()\n",
    "\n",
    "            if type(v) is list or len(v.shape) == 1:\n",
    "                scalar_features[k] = v\n",
    "            elif len(v.shape) == 2:\n",
    "                expand_cols.append(k)\n",
    "            else:\n",
    "                scalar_features[k] = None\n",
    "\n",
    "        dataframes = [pd.DataFrame(scalar_features)]\n",
    "        for col in expand_cols:\n",
    "            v = x[col].cpu().numpy()\n",
    "            dataframes.append(pd.DataFrame(v, columns=[f'{col}_{i:04d}' for i in range(v.shape[1])]))\n",
    "\n",
    "        return pd.concat(dataframes, axis=1)"
   ]
  },
  {
   "cell_type": "code",
   "execution_count": 49,
   "id": "6c4a667a",
   "metadata": {
    "id": "6c4a667a",
    "outputId": "94dafa49-939f-45c1-8f5f-0eda5562e4b9",
    "tags": []
   },
   "outputs": [
    {
     "name": "stdout",
     "output_type": "stream",
     "text": [
      "CPU times: user 15.4 s, sys: 440 ms, total: 15.9 s\n",
      "Wall time: 16 s\n"
     ]
    }
   ],
   "source": [
    "%%time\n",
    "from datetime import datetime\n",
    "train = MemoryMapDataset(\n",
    "    data=processed_train.merge(processed_target.drop(\"event_time\", axis=1), on=\"client_id\", how=\"inner\").to_dict(\"records\"),\n",
    "    i_filters=[\n",
    "        ISeqLenLimit(max_seq_len=4096),\n",
    "        FeatureFilter(keep_feature_names=['client_id', 'target_1', 'target_2', 'target_3', 'target_4']),\n",
    "        GetSplit(start_month=1, end_month=12),\n",
    "        ToTorch(),\n",
    "    ]\n",
    ")\n",
    "\n",
    "test = MemoryMapDataset(\n",
    "    data=processed_test.to_dict(\"records\"),\n",
    "    i_filters=[\n",
    "        ISeqLenLimit(max_seq_len=4096),\n",
    "        FeatureFilter(keep_feature_names=['client_id', 'target_1', 'target_2', 'target_3', 'target_4']),\n",
    "        ToTorch(),\n",
    "    ]\n",
    ")"
   ]
  },
  {
   "cell_type": "code",
   "execution_count": 50,
   "id": "1b0846b6",
   "metadata": {
    "id": "1b0846b6",
    "tags": []
   },
   "outputs": [],
   "source": [
    "inference_train_dl = DataLoader(\n",
    "        dataset=train,\n",
    "        collate_fn=partial(collate_feature_dict_with_target, targets=True),\n",
    "        shuffle=False,\n",
    "        num_workers=0,\n",
    "        batch_size=256,\n",
    "    )\n",
    "\n",
    "inference_test_dl = DataLoader(\n",
    "        dataset=test,\n",
    "        collate_fn=collate_feature_dict_with_target,\n",
    "        shuffle=False,\n",
    "        num_workers=0,\n",
    "        batch_size=256,\n",
    "    )"
   ]
  },
  {
   "cell_type": "code",
   "execution_count": 51,
   "id": "b8e7b7bd",
   "metadata": {
    "id": "b8e7b7bd",
    "tags": []
   },
   "outputs": [],
   "source": [
    "inf_module = InferenceModuleMultimodal(\n",
    "        model=model,\n",
    "        pandas_output=True,\n",
    "        drop_seq_features=True,\n",
    "        model_out_name='emb',\n",
    "    )"
   ]
  },
  {
   "cell_type": "code",
   "execution_count": 52,
   "id": "72d48ed6",
   "metadata": {
    "id": "72d48ed6",
    "outputId": "15813644-e4d8-43d2-c1c1-12b0cab08cf4",
    "tags": []
   },
   "outputs": [
    {
     "name": "stderr",
     "output_type": "stream",
     "text": [
      "Trainer will use only 1 of 2 GPUs because it is running inside an interactive / notebook environment. You may try to set `Trainer(devices=2)` but please note that multi-GPU inside interactive / notebook environments is considered experimental and unstable. Your mileage may vary.\n",
      "GPU available: True (cuda), used: True\n",
      "TPU available: False, using: 0 TPU cores\n",
      "IPU available: False, using: 0 IPUs\n",
      "HPU available: False, using: 0 HPUs\n"
     ]
    }
   ],
   "source": [
    "trainer = pl.Trainer( max_epochs=-1)"
   ]
  },
  {
   "cell_type": "code",
   "execution_count": 31,
   "id": "45dc1160",
   "metadata": {
    "id": "45dc1160",
    "tags": []
   },
   "outputs": [
    {
     "name": "stderr",
     "output_type": "stream",
     "text": [
      "LOCAL_RANK: 0 - CUDA_VISIBLE_DEVICES: [0,1]\n"
     ]
    },
    {
     "data": {
      "application/vnd.jupyter.widget-view+json": {
       "model_id": "54046f26f6a14bd2ae3ee0d05c24e4ed",
       "version_major": 2,
       "version_minor": 0
      },
      "text/plain": [
       "Predicting: |          | 0/? [00:00<?, ?it/s]"
      ]
     },
     "metadata": {},
     "output_type": "display_data"
    }
   ],
   "source": [
    "inf_test_embeddings = pd.concat(\n",
    "        trainer.predict(inf_module, inference_test_dl)\n",
    "    )\n",
    "inf_test_embeddings.to_parquet(\"test400.parquet\", index=False, engine=\"pyarrow\", compression=\"snappy\")"
   ]
  },
  {
   "cell_type": "code",
   "execution_count": 32,
   "id": "015288af",
   "metadata": {
    "id": "015288af"
   },
   "outputs": [],
   "source": [
    "#del inf_test_embeddings"
   ]
  },
  {
   "cell_type": "code",
   "execution_count": null,
   "id": "00044b74",
   "metadata": {
    "id": "00044b74",
    "tags": []
   },
   "outputs": [],
   "source": [
    "inf_train_embeddings = pd.concat(\n",
    "        trainer.predict(inf_module, inference_train_dl)\n",
    "    )\n",
    "\n",
    "inf_train_embeddings.to_parquet(\"train400d.parquet\", index=False, engine=\"pyarrow\", compression=\"snappy\")"
   ]
  },
  {
   "cell_type": "code",
   "execution_count": null,
   "id": "13797cfa",
   "metadata": {
    "id": "13797cfa"
   },
   "outputs": [],
   "source": [
    "#del inf_train_embeddings"
   ]
  },
  {
   "cell_type": "code",
   "execution_count": null,
   "id": "6e37fa5b-b12f-4980-980c-1b2c43845d09",
   "metadata": {},
   "outputs": [],
   "source": [
    "del train, test\n",
    "gc.collect()"
   ]
  },
  {
   "cell_type": "code",
   "execution_count": null,
   "id": "422742a4-dd6c-43e2-9ba7-dc8390bfb453",
   "metadata": {},
   "outputs": [],
   "source": [
    "del processed_train, processed_target"
   ]
  },
  {
   "cell_type": "markdown",
   "id": "3e0def22",
   "metadata": {},
   "source": [
    "Файл **sample_submission** составляется из **client_id** файла **test_target_b**. Так как не у всех пользователей может быть транзакционная история, мы для простоты заполняем их фичи нулями."
   ]
  },
  {
   "cell_type": "code",
   "execution_count": null,
   "id": "4e54f6eb-ebf6-49fe-87df-8d13169aa3dc",
   "metadata": {
    "id": "4e54f6eb-ebf6-49fe-87df-8d13169aa3dc"
   },
   "outputs": [],
   "source": [
    "not_only_trx = pd.DataFrame({\"client_id\": test_target_b[\"client_id\"].unique()}).merge(inf_test_embeddings, how=\"left\").fillna(0)\n",
    "not_only_trx"
   ]
  },
  {
   "cell_type": "code",
   "execution_count": null,
   "id": "a411279a-a95d-4a94-943f-07d80e5ff8d9",
   "metadata": {
    "id": "a411279a-a95d-4a94-943f-07d80e5ff8d9"
   },
   "outputs": [],
   "source": [
    "not_only_trx.to_parquet(\"not_only_trx400.parquet\", index=False, engine=\"pyarrow\", compression=\"snappy\")"
   ]
  },
  {
   "cell_type": "code",
   "execution_count": null,
   "id": "3aee6a8d-035a-4338-a66f-b498ed4e2bf4",
   "metadata": {},
   "outputs": [],
   "source": []
  },
  {
   "cell_type": "markdown",
   "id": "dcdc02c0",
   "metadata": {
    "id": "dcdc02c0"
   },
   "source": [
    "# Downstream"
   ]
  },
  {
   "cell_type": "markdown",
   "id": "e971d60f",
   "metadata": {
    "id": "e971d60f"
   },
   "source": [
    "Использование эмбеддингов для даунстрим задачи. Для всех таргетов одни и те же параметры бустинга для простоты"
   ]
  },
  {
   "cell_type": "code",
   "execution_count": 56,
   "id": "59faf3c0-50bb-43f3-babc-d3e42c90e958",
   "metadata": {},
   "outputs": [
    {
     "data": {
      "text/html": [
       "<div>\n",
       "<style scoped>\n",
       "    .dataframe tbody tr th:only-of-type {\n",
       "        vertical-align: middle;\n",
       "    }\n",
       "\n",
       "    .dataframe tbody tr th {\n",
       "        vertical-align: top;\n",
       "    }\n",
       "\n",
       "    .dataframe thead th {\n",
       "        text-align: right;\n",
       "    }\n",
       "</style>\n",
       "<table border=\"1\" class=\"dataframe\">\n",
       "  <thead>\n",
       "    <tr style=\"text-align: right;\">\n",
       "      <th></th>\n",
       "      <th>client_id</th>\n",
       "      <th>target_1</th>\n",
       "      <th>target_2</th>\n",
       "      <th>target_3</th>\n",
       "      <th>target_4</th>\n",
       "      <th>emb_0000</th>\n",
       "      <th>emb_0001</th>\n",
       "      <th>emb_0002</th>\n",
       "      <th>emb_0003</th>\n",
       "      <th>emb_0004</th>\n",
       "      <th>...</th>\n",
       "      <th>emb_0246</th>\n",
       "      <th>emb_0247</th>\n",
       "      <th>emb_0248</th>\n",
       "      <th>emb_0249</th>\n",
       "      <th>emb_0250</th>\n",
       "      <th>emb_0251</th>\n",
       "      <th>emb_0252</th>\n",
       "      <th>emb_0253</th>\n",
       "      <th>emb_0254</th>\n",
       "      <th>emb_0255</th>\n",
       "    </tr>\n",
       "  </thead>\n",
       "  <tbody>\n",
       "    <tr>\n",
       "      <th>0</th>\n",
       "      <td>000006265d27d1166ed67506682be7380007a5bead4362...</td>\n",
       "      <td>0</td>\n",
       "      <td>0</td>\n",
       "      <td>0</td>\n",
       "      <td>0</td>\n",
       "      <td>-1.0</td>\n",
       "      <td>-0.019510</td>\n",
       "      <td>1.000000</td>\n",
       "      <td>0.004497</td>\n",
       "      <td>-0.999974</td>\n",
       "      <td>...</td>\n",
       "      <td>1.000000</td>\n",
       "      <td>-0.007282</td>\n",
       "      <td>1.0</td>\n",
       "      <td>-1.0</td>\n",
       "      <td>-0.105509</td>\n",
       "      <td>0.010038</td>\n",
       "      <td>-0.999584</td>\n",
       "      <td>1.0</td>\n",
       "      <td>-0.022442</td>\n",
       "      <td>0.999969</td>\n",
       "    </tr>\n",
       "    <tr>\n",
       "      <th>1</th>\n",
       "      <td>000006265d27d1166ed67506682be7380007a5bead4362...</td>\n",
       "      <td>0</td>\n",
       "      <td>0</td>\n",
       "      <td>0</td>\n",
       "      <td>0</td>\n",
       "      <td>-1.0</td>\n",
       "      <td>-0.019510</td>\n",
       "      <td>1.000000</td>\n",
       "      <td>0.004497</td>\n",
       "      <td>-0.981368</td>\n",
       "      <td>...</td>\n",
       "      <td>1.000000</td>\n",
       "      <td>-0.007282</td>\n",
       "      <td>1.0</td>\n",
       "      <td>-1.0</td>\n",
       "      <td>-0.105509</td>\n",
       "      <td>0.010037</td>\n",
       "      <td>-0.999574</td>\n",
       "      <td>1.0</td>\n",
       "      <td>-0.022442</td>\n",
       "      <td>0.999970</td>\n",
       "    </tr>\n",
       "    <tr>\n",
       "      <th>2</th>\n",
       "      <td>000006265d27d1166ed67506682be7380007a5bead4362...</td>\n",
       "      <td>0</td>\n",
       "      <td>0</td>\n",
       "      <td>0</td>\n",
       "      <td>0</td>\n",
       "      <td>-1.0</td>\n",
       "      <td>-0.019510</td>\n",
       "      <td>1.000000</td>\n",
       "      <td>0.004497</td>\n",
       "      <td>-0.997633</td>\n",
       "      <td>...</td>\n",
       "      <td>1.000000</td>\n",
       "      <td>-0.007282</td>\n",
       "      <td>1.0</td>\n",
       "      <td>-1.0</td>\n",
       "      <td>-0.105509</td>\n",
       "      <td>0.010037</td>\n",
       "      <td>-0.999569</td>\n",
       "      <td>1.0</td>\n",
       "      <td>-0.022442</td>\n",
       "      <td>0.999969</td>\n",
       "    </tr>\n",
       "    <tr>\n",
       "      <th>3</th>\n",
       "      <td>000006265d27d1166ed67506682be7380007a5bead4362...</td>\n",
       "      <td>0</td>\n",
       "      <td>0</td>\n",
       "      <td>0</td>\n",
       "      <td>0</td>\n",
       "      <td>-1.0</td>\n",
       "      <td>-0.019510</td>\n",
       "      <td>1.000000</td>\n",
       "      <td>0.004497</td>\n",
       "      <td>-0.999423</td>\n",
       "      <td>...</td>\n",
       "      <td>1.000000</td>\n",
       "      <td>-0.007282</td>\n",
       "      <td>1.0</td>\n",
       "      <td>-1.0</td>\n",
       "      <td>-0.105509</td>\n",
       "      <td>0.010037</td>\n",
       "      <td>-0.999578</td>\n",
       "      <td>1.0</td>\n",
       "      <td>-0.022442</td>\n",
       "      <td>0.999970</td>\n",
       "    </tr>\n",
       "    <tr>\n",
       "      <th>4</th>\n",
       "      <td>000006265d27d1166ed67506682be7380007a5bead4362...</td>\n",
       "      <td>0</td>\n",
       "      <td>0</td>\n",
       "      <td>0</td>\n",
       "      <td>0</td>\n",
       "      <td>-1.0</td>\n",
       "      <td>-0.019510</td>\n",
       "      <td>1.000000</td>\n",
       "      <td>0.004497</td>\n",
       "      <td>-0.967191</td>\n",
       "      <td>...</td>\n",
       "      <td>1.000000</td>\n",
       "      <td>-0.007282</td>\n",
       "      <td>1.0</td>\n",
       "      <td>-1.0</td>\n",
       "      <td>-0.105509</td>\n",
       "      <td>0.010037</td>\n",
       "      <td>-0.999587</td>\n",
       "      <td>1.0</td>\n",
       "      <td>-0.022442</td>\n",
       "      <td>0.999970</td>\n",
       "    </tr>\n",
       "    <tr>\n",
       "      <th>...</th>\n",
       "      <td>...</td>\n",
       "      <td>...</td>\n",
       "      <td>...</td>\n",
       "      <td>...</td>\n",
       "      <td>...</td>\n",
       "      <td>...</td>\n",
       "      <td>...</td>\n",
       "      <td>...</td>\n",
       "      <td>...</td>\n",
       "      <td>...</td>\n",
       "      <td>...</td>\n",
       "      <td>...</td>\n",
       "      <td>...</td>\n",
       "      <td>...</td>\n",
       "      <td>...</td>\n",
       "      <td>...</td>\n",
       "      <td>...</td>\n",
       "      <td>...</td>\n",
       "      <td>...</td>\n",
       "      <td>...</td>\n",
       "      <td>...</td>\n",
       "    </tr>\n",
       "    <tr>\n",
       "      <th>3621403</th>\n",
       "      <td>ffffda41a92ae10c8ae3920828129ef09c1517ba7c74cb...</td>\n",
       "      <td>0</td>\n",
       "      <td>0</td>\n",
       "      <td>0</td>\n",
       "      <td>0</td>\n",
       "      <td>-1.0</td>\n",
       "      <td>-0.019513</td>\n",
       "      <td>0.247896</td>\n",
       "      <td>0.004500</td>\n",
       "      <td>-1.000000</td>\n",
       "      <td>...</td>\n",
       "      <td>0.999591</td>\n",
       "      <td>-0.007281</td>\n",
       "      <td>1.0</td>\n",
       "      <td>-1.0</td>\n",
       "      <td>-0.105563</td>\n",
       "      <td>0.010041</td>\n",
       "      <td>0.914832</td>\n",
       "      <td>1.0</td>\n",
       "      <td>-0.022445</td>\n",
       "      <td>-1.000000</td>\n",
       "    </tr>\n",
       "    <tr>\n",
       "      <th>3621404</th>\n",
       "      <td>ffffda41a92ae10c8ae3920828129ef09c1517ba7c74cb...</td>\n",
       "      <td>0</td>\n",
       "      <td>0</td>\n",
       "      <td>0</td>\n",
       "      <td>0</td>\n",
       "      <td>-1.0</td>\n",
       "      <td>-0.019513</td>\n",
       "      <td>0.248020</td>\n",
       "      <td>0.004500</td>\n",
       "      <td>-1.000000</td>\n",
       "      <td>...</td>\n",
       "      <td>0.999703</td>\n",
       "      <td>-0.007281</td>\n",
       "      <td>1.0</td>\n",
       "      <td>-1.0</td>\n",
       "      <td>-0.105563</td>\n",
       "      <td>0.010041</td>\n",
       "      <td>0.914958</td>\n",
       "      <td>1.0</td>\n",
       "      <td>-0.022445</td>\n",
       "      <td>-1.000000</td>\n",
       "    </tr>\n",
       "    <tr>\n",
       "      <th>3621405</th>\n",
       "      <td>ffffda41a92ae10c8ae3920828129ef09c1517ba7c74cb...</td>\n",
       "      <td>0</td>\n",
       "      <td>0</td>\n",
       "      <td>0</td>\n",
       "      <td>0</td>\n",
       "      <td>-1.0</td>\n",
       "      <td>-0.019513</td>\n",
       "      <td>0.248112</td>\n",
       "      <td>0.004500</td>\n",
       "      <td>-1.000000</td>\n",
       "      <td>...</td>\n",
       "      <td>0.999780</td>\n",
       "      <td>-0.007281</td>\n",
       "      <td>1.0</td>\n",
       "      <td>-1.0</td>\n",
       "      <td>-0.105563</td>\n",
       "      <td>0.010041</td>\n",
       "      <td>0.913898</td>\n",
       "      <td>1.0</td>\n",
       "      <td>-0.022445</td>\n",
       "      <td>-1.000000</td>\n",
       "    </tr>\n",
       "    <tr>\n",
       "      <th>3621406</th>\n",
       "      <td>ffffda41a92ae10c8ae3920828129ef09c1517ba7c74cb...</td>\n",
       "      <td>0</td>\n",
       "      <td>0</td>\n",
       "      <td>0</td>\n",
       "      <td>0</td>\n",
       "      <td>-1.0</td>\n",
       "      <td>-0.019513</td>\n",
       "      <td>0.248176</td>\n",
       "      <td>0.004500</td>\n",
       "      <td>-1.000000</td>\n",
       "      <td>...</td>\n",
       "      <td>0.999828</td>\n",
       "      <td>-0.007281</td>\n",
       "      <td>1.0</td>\n",
       "      <td>-1.0</td>\n",
       "      <td>-0.105563</td>\n",
       "      <td>0.010041</td>\n",
       "      <td>0.914082</td>\n",
       "      <td>1.0</td>\n",
       "      <td>-0.022445</td>\n",
       "      <td>-1.000000</td>\n",
       "    </tr>\n",
       "    <tr>\n",
       "      <th>3621407</th>\n",
       "      <td>ffffda41a92ae10c8ae3920828129ef09c1517ba7c74cb...</td>\n",
       "      <td>0</td>\n",
       "      <td>0</td>\n",
       "      <td>0</td>\n",
       "      <td>0</td>\n",
       "      <td>-1.0</td>\n",
       "      <td>-0.019513</td>\n",
       "      <td>0.248207</td>\n",
       "      <td>0.004500</td>\n",
       "      <td>-1.000000</td>\n",
       "      <td>...</td>\n",
       "      <td>0.999830</td>\n",
       "      <td>-0.007281</td>\n",
       "      <td>1.0</td>\n",
       "      <td>-1.0</td>\n",
       "      <td>-0.105563</td>\n",
       "      <td>0.010041</td>\n",
       "      <td>0.913946</td>\n",
       "      <td>1.0</td>\n",
       "      <td>-0.022445</td>\n",
       "      <td>-1.000000</td>\n",
       "    </tr>\n",
       "  </tbody>\n",
       "</table>\n",
       "<p>3621408 rows × 261 columns</p>\n",
       "</div>"
      ],
      "text/plain": [
       "                                                 client_id  target_1  \\\n",
       "0        000006265d27d1166ed67506682be7380007a5bead4362...         0   \n",
       "1        000006265d27d1166ed67506682be7380007a5bead4362...         0   \n",
       "2        000006265d27d1166ed67506682be7380007a5bead4362...         0   \n",
       "3        000006265d27d1166ed67506682be7380007a5bead4362...         0   \n",
       "4        000006265d27d1166ed67506682be7380007a5bead4362...         0   \n",
       "...                                                    ...       ...   \n",
       "3621403  ffffda41a92ae10c8ae3920828129ef09c1517ba7c74cb...         0   \n",
       "3621404  ffffda41a92ae10c8ae3920828129ef09c1517ba7c74cb...         0   \n",
       "3621405  ffffda41a92ae10c8ae3920828129ef09c1517ba7c74cb...         0   \n",
       "3621406  ffffda41a92ae10c8ae3920828129ef09c1517ba7c74cb...         0   \n",
       "3621407  ffffda41a92ae10c8ae3920828129ef09c1517ba7c74cb...         0   \n",
       "\n",
       "         target_2  target_3  target_4  emb_0000  emb_0001  emb_0002  emb_0003  \\\n",
       "0               0         0         0      -1.0 -0.019510  1.000000  0.004497   \n",
       "1               0         0         0      -1.0 -0.019510  1.000000  0.004497   \n",
       "2               0         0         0      -1.0 -0.019510  1.000000  0.004497   \n",
       "3               0         0         0      -1.0 -0.019510  1.000000  0.004497   \n",
       "4               0         0         0      -1.0 -0.019510  1.000000  0.004497   \n",
       "...           ...       ...       ...       ...       ...       ...       ...   \n",
       "3621403         0         0         0      -1.0 -0.019513  0.247896  0.004500   \n",
       "3621404         0         0         0      -1.0 -0.019513  0.248020  0.004500   \n",
       "3621405         0         0         0      -1.0 -0.019513  0.248112  0.004500   \n",
       "3621406         0         0         0      -1.0 -0.019513  0.248176  0.004500   \n",
       "3621407         0         0         0      -1.0 -0.019513  0.248207  0.004500   \n",
       "\n",
       "         emb_0004  ...  emb_0246  emb_0247  emb_0248  emb_0249  emb_0250  \\\n",
       "0       -0.999974  ...  1.000000 -0.007282       1.0      -1.0 -0.105509   \n",
       "1       -0.981368  ...  1.000000 -0.007282       1.0      -1.0 -0.105509   \n",
       "2       -0.997633  ...  1.000000 -0.007282       1.0      -1.0 -0.105509   \n",
       "3       -0.999423  ...  1.000000 -0.007282       1.0      -1.0 -0.105509   \n",
       "4       -0.967191  ...  1.000000 -0.007282       1.0      -1.0 -0.105509   \n",
       "...           ...  ...       ...       ...       ...       ...       ...   \n",
       "3621403 -1.000000  ...  0.999591 -0.007281       1.0      -1.0 -0.105563   \n",
       "3621404 -1.000000  ...  0.999703 -0.007281       1.0      -1.0 -0.105563   \n",
       "3621405 -1.000000  ...  0.999780 -0.007281       1.0      -1.0 -0.105563   \n",
       "3621406 -1.000000  ...  0.999828 -0.007281       1.0      -1.0 -0.105563   \n",
       "3621407 -1.000000  ...  0.999830 -0.007281       1.0      -1.0 -0.105563   \n",
       "\n",
       "         emb_0251  emb_0252  emb_0253  emb_0254  emb_0255  \n",
       "0        0.010038 -0.999584       1.0 -0.022442  0.999969  \n",
       "1        0.010037 -0.999574       1.0 -0.022442  0.999970  \n",
       "2        0.010037 -0.999569       1.0 -0.022442  0.999969  \n",
       "3        0.010037 -0.999578       1.0 -0.022442  0.999970  \n",
       "4        0.010037 -0.999587       1.0 -0.022442  0.999970  \n",
       "...           ...       ...       ...       ...       ...  \n",
       "3621403  0.010041  0.914832       1.0 -0.022445 -1.000000  \n",
       "3621404  0.010041  0.914958       1.0 -0.022445 -1.000000  \n",
       "3621405  0.010041  0.913898       1.0 -0.022445 -1.000000  \n",
       "3621406  0.010041  0.914082       1.0 -0.022445 -1.000000  \n",
       "3621407  0.010041  0.913946       1.0 -0.022445 -1.000000  \n",
       "\n",
       "[3621408 rows x 261 columns]"
      ]
     },
     "execution_count": 56,
     "metadata": {},
     "output_type": "execute_result"
    }
   ],
   "source": [
    "inf_train_embeddings"
   ]
  },
  {
   "cell_type": "code",
   "execution_count": 55,
   "id": "4fd80562-5b74-4d08-8962-4e3b1f10a288",
   "metadata": {},
   "outputs": [],
   "source": [
    "inf_train_embeddings = pd.read_parquet(\"train400.parquet\")\n",
    "test_embeddings_curr = pd.read_parquet(\"not_only_trx400.parquet\").drop_duplicates('client_id')"
   ]
  },
  {
   "cell_type": "code",
   "execution_count": 5,
   "id": "e4da7663",
   "metadata": {
    "id": "e4da7663",
    "tags": []
   },
   "outputs": [],
   "source": [
    "from sklearn.model_selection import train_test_split\n",
    "\n",
    "class Downstream:\n",
    "    def __init__(\n",
    "        self,\n",
    "        train_path,\n",
    "        test_path,\n",
    "        #params,\n",
    "        result_path,\n",
    "        col_id='client_id',\n",
    "        targets=(\n",
    "            'target_1',\n",
    "            'target_2',\n",
    "            'target_3',\n",
    "            'target_4'\n",
    "        )\n",
    "    ):\n",
    "        self.train_path = train_path\n",
    "        self.test_path = test_path\n",
    "\n",
    "        self.col_id = col_id\n",
    "        self.all_targets = targets\n",
    "        #self.params = params\n",
    "        self.result_path = result_path\n",
    "        self.drop_feat = list(self.all_targets) + [self.col_id]\n",
    "\n",
    "    def fit(self):\n",
    "        \n",
    "\n",
    "        \n",
    "\n",
    "        #train_embeddings = pd.read_parquet(self.train_path)\n",
    "        X = inf_train_embeddings.drop(columns=self.drop_feat)\n",
    "\n",
    "        clfs = dict()\n",
    "        for col_target in self.all_targets:\n",
    "            y = inf_train_embeddings[col_target]\n",
    "            X_train, X_val, y_train, y_val = train_test_split(X, y, shuffle=False,# stratify=y, \n",
    "                                                       train_size=0.8, \n",
    "                                                       random_state=33)\n",
    "            clf = CatBoostClassifier(random_seed=42,\n",
    "                                             #iterations=15000,\n",
    "                                             #learning_rate=0.0081,\n",
    "                                             #l2_leaf_reg=5,\n",
    "                                             #depth=7,\n",
    "                                             #max_bin=254,\n",
    "                                             auto_class_weights='Balanced',\n",
    "                                             task_type=\"GPU\",\n",
    "                                             thread_count=-1,\n",
    "                                             use_best_model=True,\n",
    "                                             #leaf_estimation_method='Newton', \n",
    "                                             #cat_features=cat_cols,\n",
    "                                             #loss_function=\"CrossEntropy\",\n",
    "                                             eval_metric='AUC',\n",
    "                                             #custom_loss=['Recall', 'F1', 'AUC']\n",
    "                                    )\n",
    "            \n",
    "            clf.fit(X_train, y_train, eval_set=(X_val, y_val),\n",
    "                    verbose=100, plot=False, early_stopping_rounds=200)\n",
    "            print(f'Model fitted, target: {col_target}')\n",
    "            clfs[col_target] = clf\n",
    "\n",
    "        return clfs\n",
    "\n",
    "    def get_scores(\n",
    "        self,\n",
    "        clfs\n",
    "    ):\n",
    "        scores = pd.DataFrame([])\n",
    "\n",
    "        #test_embeddings_curr = pd.read_parquet(self.test_path).drop_duplicates('client_id')\n",
    "        X_test = test_embeddings_curr.drop(columns=[self.col_id])\n",
    "        ids = test_embeddings_curr[self.col_id]\n",
    "        scores[self.col_id] = ids\n",
    "\n",
    "        for col_target in self.all_targets:\n",
    "            clf = clfs[col_target]\n",
    "            score = clf.predict_proba(X_test)[:, 1]\n",
    "            scores[col_target] = score\n",
    "\n",
    "        return scores\n",
    "\n",
    "    def run(self):\n",
    "        clfs = self.fit()\n",
    "        scores = self.get_scores(clfs)\n",
    "\n",
    "        scores.to_csv(self.result_path)\n",
    "\n",
    "        return scores\n"
   ]
  },
  {
   "cell_type": "code",
   "execution_count": 6,
   "id": "72687ef0-b1f8-4938-b2e2-859dc1afd0be",
   "metadata": {},
   "outputs": [
    {
     "name": "stdout",
     "output_type": "stream",
     "text": [
      "Learning rate set to 0.036162\n"
     ]
    },
    {
     "name": "stderr",
     "output_type": "stream",
     "text": [
      "Default metric period is 5 because AUC is/are not implemented for GPU\n"
     ]
    },
    {
     "name": "stdout",
     "output_type": "stream",
     "text": [
      "0:\ttest: 0.6382143\tbest: 0.6382143 (0)\ttotal: 166ms\tremaining: 2m 45s\n",
      "100:\ttest: 0.6737270\tbest: 0.6737270 (100)\ttotal: 9.7s\tremaining: 1m 26s\n",
      "200:\ttest: 0.6795122\tbest: 0.6795122 (200)\ttotal: 18.7s\tremaining: 1m 14s\n",
      "300:\ttest: 0.6826550\tbest: 0.6826933 (296)\ttotal: 27.6s\tremaining: 1m 4s\n",
      "400:\ttest: 0.6843536\tbest: 0.6843536 (400)\ttotal: 36.4s\tremaining: 54.4s\n",
      "500:\ttest: 0.6855631\tbest: 0.6855740 (499)\ttotal: 45.2s\tremaining: 45s\n",
      "600:\ttest: 0.6865346\tbest: 0.6865346 (600)\ttotal: 54s\tremaining: 35.8s\n",
      "700:\ttest: 0.6873653\tbest: 0.6874046 (696)\ttotal: 1m 2s\tremaining: 26.8s\n",
      "800:\ttest: 0.6880672\tbest: 0.6880672 (800)\ttotal: 1m 11s\tremaining: 17.8s\n",
      "900:\ttest: 0.6885712\tbest: 0.6885712 (900)\ttotal: 1m 20s\tremaining: 8.86s\n",
      "999:\ttest: 0.6886215\tbest: 0.6887863 (949)\ttotal: 1m 29s\tremaining: 0us\n",
      "bestTest = 0.6887863278\n",
      "bestIteration = 949\n",
      "Shrink model to first 950 iterations.\n",
      "Model fitted, target: target_1\n",
      "Learning rate set to 0.036162\n"
     ]
    },
    {
     "name": "stderr",
     "output_type": "stream",
     "text": [
      "Default metric period is 5 because AUC is/are not implemented for GPU\n"
     ]
    },
    {
     "name": "stdout",
     "output_type": "stream",
     "text": [
      "0:\ttest: 0.7158065\tbest: 0.7158065 (0)\ttotal: 100ms\tremaining: 1m 40s\n",
      "100:\ttest: 0.7767514\tbest: 0.7767514 (100)\ttotal: 9.66s\tremaining: 1m 25s\n",
      "200:\ttest: 0.7817056\tbest: 0.7825336 (189)\ttotal: 18.9s\tremaining: 1m 15s\n",
      "300:\ttest: 0.7850599\tbest: 0.7852061 (299)\ttotal: 28s\tremaining: 1m 4s\n",
      "400:\ttest: 0.7880141\tbest: 0.7881591 (395)\ttotal: 37.2s\tremaining: 55.5s\n",
      "500:\ttest: 0.7866227\tbest: 0.7885571 (468)\ttotal: 46.1s\tremaining: 46s\n",
      "600:\ttest: 0.7872328\tbest: 0.7885571 (468)\ttotal: 55.3s\tremaining: 36.7s\n",
      "bestTest = 0.7885570824\n",
      "bestIteration = 468\n",
      "Shrink model to first 469 iterations.\n",
      "Model fitted, target: target_2\n",
      "Learning rate set to 0.036162\n"
     ]
    },
    {
     "name": "stderr",
     "output_type": "stream",
     "text": [
      "Default metric period is 5 because AUC is/are not implemented for GPU\n"
     ]
    },
    {
     "name": "stdout",
     "output_type": "stream",
     "text": [
      "0:\ttest: 0.6514042\tbest: 0.6514042 (0)\ttotal: 105ms\tremaining: 1m 44s\n",
      "100:\ttest: 0.6889180\tbest: 0.6889180 (100)\ttotal: 9.55s\tremaining: 1m 24s\n",
      "200:\ttest: 0.6974066\tbest: 0.6974066 (200)\ttotal: 18.7s\tremaining: 1m 14s\n",
      "300:\ttest: 0.7022016\tbest: 0.7022016 (300)\ttotal: 27.8s\tremaining: 1m 4s\n",
      "400:\ttest: 0.7054254\tbest: 0.7054254 (400)\ttotal: 36.8s\tremaining: 54.9s\n",
      "500:\ttest: 0.7075092\tbest: 0.7075417 (498)\ttotal: 45.9s\tremaining: 45.7s\n",
      "600:\ttest: 0.7096848\tbest: 0.7096848 (600)\ttotal: 54.9s\tremaining: 36.5s\n",
      "700:\ttest: 0.7110445\tbest: 0.7110518 (697)\ttotal: 1m 3s\tremaining: 27.3s\n",
      "800:\ttest: 0.7122202\tbest: 0.7122202 (800)\ttotal: 1m 12s\tremaining: 18.1s\n",
      "900:\ttest: 0.7133135\tbest: 0.7133194 (899)\ttotal: 1m 21s\tremaining: 9.01s\n",
      "999:\ttest: 0.7142810\tbest: 0.7142835 (997)\ttotal: 1m 30s\tremaining: 0us\n",
      "bestTest = 0.7142834961\n",
      "bestIteration = 997\n",
      "Shrink model to first 998 iterations.\n",
      "Model fitted, target: target_3\n",
      "Learning rate set to 0.036162\n"
     ]
    },
    {
     "name": "stderr",
     "output_type": "stream",
     "text": [
      "Default metric period is 5 because AUC is/are not implemented for GPU\n"
     ]
    },
    {
     "name": "stdout",
     "output_type": "stream",
     "text": [
      "0:\ttest: 0.6820045\tbest: 0.6820045 (0)\ttotal: 114ms\tremaining: 1m 54s\n",
      "100:\ttest: 0.7563072\tbest: 0.7563072 (100)\ttotal: 10.1s\tremaining: 1m 29s\n",
      "200:\ttest: 0.7724323\tbest: 0.7724323 (200)\ttotal: 19.4s\tremaining: 1m 17s\n",
      "300:\ttest: 0.7805956\tbest: 0.7805956 (300)\ttotal: 28.8s\tremaining: 1m 6s\n",
      "400:\ttest: 0.7856182\tbest: 0.7856182 (400)\ttotal: 38s\tremaining: 56.7s\n",
      "500:\ttest: 0.7889003\tbest: 0.7889003 (500)\ttotal: 47.1s\tremaining: 46.9s\n",
      "600:\ttest: 0.7913159\tbest: 0.7913222 (597)\ttotal: 56.1s\tremaining: 37.2s\n",
      "700:\ttest: 0.7926520\tbest: 0.7926520 (700)\ttotal: 1m 5s\tremaining: 27.8s\n",
      "800:\ttest: 0.7937609\tbest: 0.7937609 (800)\ttotal: 1m 14s\tremaining: 18.4s\n",
      "900:\ttest: 0.7947455\tbest: 0.7947455 (900)\ttotal: 1m 23s\tremaining: 9.16s\n",
      "999:\ttest: 0.7953898\tbest: 0.7954083 (998)\ttotal: 1m 32s\tremaining: 0us\n",
      "bestTest = 0.7954083085\n",
      "bestIteration = 998\n",
      "Shrink model to first 999 iterations.\n",
      "Model fitted, target: target_4\n"
     ]
    },
    {
     "data": {
      "text/html": [
       "<div>\n",
       "<style scoped>\n",
       "    .dataframe tbody tr th:only-of-type {\n",
       "        vertical-align: middle;\n",
       "    }\n",
       "\n",
       "    .dataframe tbody tr th {\n",
       "        vertical-align: top;\n",
       "    }\n",
       "\n",
       "    .dataframe thead th {\n",
       "        text-align: right;\n",
       "    }\n",
       "</style>\n",
       "<table border=\"1\" class=\"dataframe\">\n",
       "  <thead>\n",
       "    <tr style=\"text-align: right;\">\n",
       "      <th></th>\n",
       "      <th>client_id</th>\n",
       "      <th>target_1</th>\n",
       "      <th>target_2</th>\n",
       "      <th>target_3</th>\n",
       "      <th>target_4</th>\n",
       "    </tr>\n",
       "  </thead>\n",
       "  <tbody>\n",
       "    <tr>\n",
       "      <th>0</th>\n",
       "      <td>2b7ff0c1c99cefe259ed83c5dfa0a403f2cbc88032b671...</td>\n",
       "      <td>0.047409</td>\n",
       "      <td>0.035093</td>\n",
       "      <td>0.869530</td>\n",
       "      <td>0.099730</td>\n",
       "    </tr>\n",
       "    <tr>\n",
       "      <th>1</th>\n",
       "      <td>0433d23e224b7a520656da6181efadb8d556bb293158c9...</td>\n",
       "      <td>0.628586</td>\n",
       "      <td>0.136453</td>\n",
       "      <td>0.658431</td>\n",
       "      <td>0.327251</td>\n",
       "    </tr>\n",
       "    <tr>\n",
       "      <th>2</th>\n",
       "      <td>f2ce8b292e5f9f778f3e20db7608ac76dc8812113a2631...</td>\n",
       "      <td>0.000402</td>\n",
       "      <td>0.000002</td>\n",
       "      <td>0.000184</td>\n",
       "      <td>0.000012</td>\n",
       "    </tr>\n",
       "    <tr>\n",
       "      <th>3</th>\n",
       "      <td>4f807e8b163c653bcaeff9f925983568f4c3e6b1a1f231...</td>\n",
       "      <td>0.539618</td>\n",
       "      <td>0.618211</td>\n",
       "      <td>0.679466</td>\n",
       "      <td>0.820355</td>\n",
       "    </tr>\n",
       "    <tr>\n",
       "      <th>4</th>\n",
       "      <td>64369f6f8ae1b719332ee1bfb2b454e642b2053d2c9b8a...</td>\n",
       "      <td>0.482004</td>\n",
       "      <td>0.187162</td>\n",
       "      <td>0.366723</td>\n",
       "      <td>0.208676</td>\n",
       "    </tr>\n",
       "    <tr>\n",
       "      <th>...</th>\n",
       "      <td>...</td>\n",
       "      <td>...</td>\n",
       "      <td>...</td>\n",
       "      <td>...</td>\n",
       "      <td>...</td>\n",
       "    </tr>\n",
       "    <tr>\n",
       "      <th>140483</th>\n",
       "      <td>d49a66825bb16ceb5b6a01126e1f2391b085dba8da44ee...</td>\n",
       "      <td>0.482929</td>\n",
       "      <td>0.012985</td>\n",
       "      <td>0.384750</td>\n",
       "      <td>0.029905</td>\n",
       "    </tr>\n",
       "    <tr>\n",
       "      <th>140484</th>\n",
       "      <td>f772af6720c0b591d49b97946c5e420c1c077affc0f7c7...</td>\n",
       "      <td>0.489651</td>\n",
       "      <td>0.107191</td>\n",
       "      <td>0.369920</td>\n",
       "      <td>0.662027</td>\n",
       "    </tr>\n",
       "    <tr>\n",
       "      <th>140485</th>\n",
       "      <td>06b282335bc4853f888e1ab50a6ba23a8e420d42313959...</td>\n",
       "      <td>0.424455</td>\n",
       "      <td>0.483013</td>\n",
       "      <td>0.614976</td>\n",
       "      <td>0.251631</td>\n",
       "    </tr>\n",
       "    <tr>\n",
       "      <th>140486</th>\n",
       "      <td>90d423a25d7cdaf674f7d78bc37d88830443ff17717e02...</td>\n",
       "      <td>0.607237</td>\n",
       "      <td>0.346644</td>\n",
       "      <td>0.600772</td>\n",
       "      <td>0.792360</td>\n",
       "    </tr>\n",
       "    <tr>\n",
       "      <th>140487</th>\n",
       "      <td>f63e55b226d3732b8b4927be8a2cdc7fb88ff2bb0561e2...</td>\n",
       "      <td>0.332382</td>\n",
       "      <td>0.433469</td>\n",
       "      <td>0.297093</td>\n",
       "      <td>0.345482</td>\n",
       "    </tr>\n",
       "  </tbody>\n",
       "</table>\n",
       "<p>140488 rows × 5 columns</p>\n",
       "</div>"
      ],
      "text/plain": [
       "                                                client_id  target_1  target_2  \\\n",
       "0       2b7ff0c1c99cefe259ed83c5dfa0a403f2cbc88032b671...  0.047409  0.035093   \n",
       "1       0433d23e224b7a520656da6181efadb8d556bb293158c9...  0.628586  0.136453   \n",
       "2       f2ce8b292e5f9f778f3e20db7608ac76dc8812113a2631...  0.000402  0.000002   \n",
       "3       4f807e8b163c653bcaeff9f925983568f4c3e6b1a1f231...  0.539618  0.618211   \n",
       "4       64369f6f8ae1b719332ee1bfb2b454e642b2053d2c9b8a...  0.482004  0.187162   \n",
       "...                                                   ...       ...       ...   \n",
       "140483  d49a66825bb16ceb5b6a01126e1f2391b085dba8da44ee...  0.482929  0.012985   \n",
       "140484  f772af6720c0b591d49b97946c5e420c1c077affc0f7c7...  0.489651  0.107191   \n",
       "140485  06b282335bc4853f888e1ab50a6ba23a8e420d42313959...  0.424455  0.483013   \n",
       "140486  90d423a25d7cdaf674f7d78bc37d88830443ff17717e02...  0.607237  0.346644   \n",
       "140487  f63e55b226d3732b8b4927be8a2cdc7fb88ff2bb0561e2...  0.332382  0.433469   \n",
       "\n",
       "        target_3  target_4  \n",
       "0       0.869530  0.099730  \n",
       "1       0.658431  0.327251  \n",
       "2       0.000184  0.000012  \n",
       "3       0.679466  0.820355  \n",
       "4       0.366723  0.208676  \n",
       "...          ...       ...  \n",
       "140483  0.384750  0.029905  \n",
       "140484  0.369920  0.662027  \n",
       "140485  0.614976  0.251631  \n",
       "140486  0.600772  0.792360  \n",
       "140487  0.297093  0.345482  \n",
       "\n",
       "[140488 rows x 5 columns]"
      ]
     },
     "execution_count": 6,
     "metadata": {},
     "output_type": "execute_result"
    }
   ],
   "source": [
    "dw = Downstream(\n",
    "    train_path=\"train.parquet\",\n",
    "    test_path=\"not_only_trx.parquet\",\n",
    "    #params=params,\n",
    "    result_path='sample_mission.csv'\n",
    ")\n",
    "\n",
    "scores = dw.run()\n",
    "scores"
   ]
  },
  {
   "cell_type": "code",
   "execution_count": 49,
   "id": "6c03807d-9eb9-4ffc-987e-6284bf42b5e8",
   "metadata": {},
   "outputs": [
    {
     "name": "stdout",
     "output_type": "stream",
     "text": [
      "Learning rate set to 0.038205\n",
      "0:\tlearn: 0.5959102\ttest: 0.5959735\tbest: 0.5959735 (0)\ttotal: 210ms\tremaining: 3m 30s\n",
      "100:\tlearn: 0.0370369\ttest: 0.0374235\tbest: 0.0374235 (100)\ttotal: 17.9s\tremaining: 2m 39s\n",
      "200:\tlearn: 0.0366216\ttest: 0.0371255\tbest: 0.0371255 (200)\ttotal: 33.2s\tremaining: 2m 11s\n",
      "300:\tlearn: 0.0363699\ttest: 0.0369767\tbest: 0.0369767 (300)\ttotal: 48.1s\tremaining: 1m 51s\n",
      "400:\tlearn: 0.0361791\ttest: 0.0368828\tbest: 0.0368828 (400)\ttotal: 1m 2s\tremaining: 1m 33s\n",
      "500:\tlearn: 0.0360141\ttest: 0.0368122\tbest: 0.0368122 (500)\ttotal: 1m 17s\tremaining: 1m 16s\n",
      "600:\tlearn: 0.0358738\ttest: 0.0367597\tbest: 0.0367597 (600)\ttotal: 1m 31s\tremaining: 1m\n",
      "700:\tlearn: 0.0357422\ttest: 0.0367168\tbest: 0.0367168 (700)\ttotal: 1m 45s\tremaining: 45.2s\n",
      "800:\tlearn: 0.0356179\ttest: 0.0366756\tbest: 0.0366756 (800)\ttotal: 2m\tremaining: 30s\n",
      "900:\tlearn: 0.0355078\ttest: 0.0366462\tbest: 0.0366462 (900)\ttotal: 2m 14s\tremaining: 14.8s\n",
      "999:\tlearn: 0.0354063\ttest: 0.0366229\tbest: 0.0366229 (999)\ttotal: 2m 28s\tremaining: 0us\n",
      "bestTest = 0.03662293628\n",
      "bestIteration = 999\n",
      "0.7292824149280063\n"
     ]
    },
    {
     "data": {
      "text/html": [
       "<div>\n",
       "<style scoped>\n",
       "    .dataframe tbody tr th:only-of-type {\n",
       "        vertical-align: middle;\n",
       "    }\n",
       "\n",
       "    .dataframe tbody tr th {\n",
       "        vertical-align: top;\n",
       "    }\n",
       "\n",
       "    .dataframe thead th {\n",
       "        text-align: right;\n",
       "    }\n",
       "</style>\n",
       "<table border=\"1\" class=\"dataframe\">\n",
       "  <thead>\n",
       "    <tr style=\"text-align: right;\">\n",
       "      <th></th>\n",
       "      <th>client_id</th>\n",
       "      <th>target_1</th>\n",
       "      <th>target_2</th>\n",
       "      <th>target_3</th>\n",
       "      <th>target_4</th>\n",
       "    </tr>\n",
       "  </thead>\n",
       "  <tbody>\n",
       "    <tr>\n",
       "      <th>0</th>\n",
       "      <td>2b7ff0c1c99cefe259ed83c5dfa0a403f2cbc88032b671...</td>\n",
       "      <td>0.001075</td>\n",
       "      <td>0.000085</td>\n",
       "      <td>0.064577</td>\n",
       "      <td>0.001261</td>\n",
       "    </tr>\n",
       "    <tr>\n",
       "      <th>1</th>\n",
       "      <td>0433d23e224b7a520656da6181efadb8d556bb293158c9...</td>\n",
       "      <td>0.011717</td>\n",
       "      <td>0.000890</td>\n",
       "      <td>0.005675</td>\n",
       "      <td>0.001740</td>\n",
       "    </tr>\n",
       "    <tr>\n",
       "      <th>2</th>\n",
       "      <td>f2ce8b292e5f9f778f3e20db7608ac76dc8812113a2631...</td>\n",
       "      <td>0.055184</td>\n",
       "      <td>0.006200</td>\n",
       "      <td>0.051975</td>\n",
       "      <td>0.007174</td>\n",
       "    </tr>\n",
       "    <tr>\n",
       "      <th>3</th>\n",
       "      <td>4f807e8b163c653bcaeff9f925983568f4c3e6b1a1f231...</td>\n",
       "      <td>0.011342</td>\n",
       "      <td>0.002557</td>\n",
       "      <td>0.009909</td>\n",
       "      <td>0.027817</td>\n",
       "    </tr>\n",
       "    <tr>\n",
       "      <th>4</th>\n",
       "      <td>64369f6f8ae1b719332ee1bfb2b454e642b2053d2c9b8a...</td>\n",
       "      <td>0.005456</td>\n",
       "      <td>0.000266</td>\n",
       "      <td>0.003647</td>\n",
       "      <td>0.001139</td>\n",
       "    </tr>\n",
       "    <tr>\n",
       "      <th>...</th>\n",
       "      <td>...</td>\n",
       "      <td>...</td>\n",
       "      <td>...</td>\n",
       "      <td>...</td>\n",
       "      <td>...</td>\n",
       "    </tr>\n",
       "    <tr>\n",
       "      <th>140483</th>\n",
       "      <td>d49a66825bb16ceb5b6a01126e1f2391b085dba8da44ee...</td>\n",
       "      <td>0.010084</td>\n",
       "      <td>0.000265</td>\n",
       "      <td>0.017453</td>\n",
       "      <td>0.002735</td>\n",
       "    </tr>\n",
       "    <tr>\n",
       "      <th>140484</th>\n",
       "      <td>f772af6720c0b591d49b97946c5e420c1c077affc0f7c7...</td>\n",
       "      <td>0.011705</td>\n",
       "      <td>0.000767</td>\n",
       "      <td>0.006996</td>\n",
       "      <td>0.012383</td>\n",
       "    </tr>\n",
       "    <tr>\n",
       "      <th>140485</th>\n",
       "      <td>06b282335bc4853f888e1ab50a6ba23a8e420d42313959...</td>\n",
       "      <td>0.006908</td>\n",
       "      <td>0.000995</td>\n",
       "      <td>0.012473</td>\n",
       "      <td>0.001083</td>\n",
       "    </tr>\n",
       "    <tr>\n",
       "      <th>140486</th>\n",
       "      <td>90d423a25d7cdaf674f7d78bc37d88830443ff17717e02...</td>\n",
       "      <td>0.012377</td>\n",
       "      <td>0.001453</td>\n",
       "      <td>0.014222</td>\n",
       "      <td>0.026057</td>\n",
       "    </tr>\n",
       "    <tr>\n",
       "      <th>140487</th>\n",
       "      <td>f63e55b226d3732b8b4927be8a2cdc7fb88ff2bb0561e2...</td>\n",
       "      <td>0.008253</td>\n",
       "      <td>0.001692</td>\n",
       "      <td>0.008071</td>\n",
       "      <td>0.003758</td>\n",
       "    </tr>\n",
       "  </tbody>\n",
       "</table>\n",
       "<p>140488 rows × 5 columns</p>\n",
       "</div>"
      ],
      "text/plain": [
       "                                                client_id  target_1  target_2  \\\n",
       "0       2b7ff0c1c99cefe259ed83c5dfa0a403f2cbc88032b671...  0.001075  0.000085   \n",
       "1       0433d23e224b7a520656da6181efadb8d556bb293158c9...  0.011717  0.000890   \n",
       "2       f2ce8b292e5f9f778f3e20db7608ac76dc8812113a2631...  0.055184  0.006200   \n",
       "3       4f807e8b163c653bcaeff9f925983568f4c3e6b1a1f231...  0.011342  0.002557   \n",
       "4       64369f6f8ae1b719332ee1bfb2b454e642b2053d2c9b8a...  0.005456  0.000266   \n",
       "...                                                   ...       ...       ...   \n",
       "140483  d49a66825bb16ceb5b6a01126e1f2391b085dba8da44ee...  0.010084  0.000265   \n",
       "140484  f772af6720c0b591d49b97946c5e420c1c077affc0f7c7...  0.011705  0.000767   \n",
       "140485  06b282335bc4853f888e1ab50a6ba23a8e420d42313959...  0.006908  0.000995   \n",
       "140486  90d423a25d7cdaf674f7d78bc37d88830443ff17717e02...  0.012377  0.001453   \n",
       "140487  f63e55b226d3732b8b4927be8a2cdc7fb88ff2bb0561e2...  0.008253  0.001692   \n",
       "\n",
       "        target_3  target_4  \n",
       "0       0.064577  0.001261  \n",
       "1       0.005675  0.001740  \n",
       "2       0.051975  0.007174  \n",
       "3       0.009909  0.027817  \n",
       "4       0.003647  0.001139  \n",
       "...          ...       ...  \n",
       "140483  0.017453  0.002735  \n",
       "140484  0.006996  0.012383  \n",
       "140485  0.012473  0.001083  \n",
       "140486  0.014222  0.026057  \n",
       "140487  0.008071  0.003758  \n",
       "\n",
       "[140488 rows x 5 columns]"
      ]
     },
     "execution_count": 49,
     "metadata": {},
     "output_type": "execute_result"
    }
   ],
   "source": [
    "dw = Downstream(\n",
    "    train_path=\"train.parquet\",\n",
    "    test_path=\"not_only_trx.parquet\",\n",
    "    #params=params,\n",
    "    result_path='sample_mission.csv'\n",
    ")\n",
    "\n",
    "scores = dw.run()\n",
    "scores"
   ]
  },
  {
   "cell_type": "markdown",
   "id": "83330e50-8bd2-45ed-8975-83b61ffa9b2b",
   "metadata": {},
   "source": [
    "# GroupKFold"
   ]
  },
  {
   "cell_type": "code",
   "execution_count": 9,
   "id": "93b21a57",
   "metadata": {},
   "outputs": [],
   "source": [
    "class Downstream:\n",
    "    def __init__(\n",
    "        self,\n",
    "        train_path,\n",
    "        test_path,\n",
    "        n_splits,\n",
    "        result_path,\n",
    "        col_id='client_id',\n",
    "        targets=(\n",
    "            'target_1',\n",
    "            'target_2',\n",
    "            'target_3',\n",
    "            'target_4'\n",
    "        )\n",
    "    ):\n",
    "        self.train_path = train_path\n",
    "        self.test_path = test_path\n",
    "\n",
    "        self.col_id = col_id\n",
    "        self.all_targets = targets\n",
    "        self.n_splits = n_splits\n",
    "        self.result_path = result_path\n",
    "        self.drop_feat = list(self.all_targets) + [self.col_id]\n",
    "\n",
    "    def fit(self):\n",
    "\n",
    "        n_splits = self.n_splits\n",
    "        scores = []\n",
    "        clfs = []\n",
    "\n",
    "        gkf = GroupKFold(n_splits=n_splits)\n",
    "        X = inf_train_embeddings.drop(columns=self.drop_feat)\n",
    "        y = inf_train_embeddings[list(self.all_targets)]\n",
    "\n",
    "        for train_index, val_index in gkf.split(X, y, inf_train_embeddings.client_id.values):\n",
    "    \n",
    "            X_train, X_val = X.iloc[train_index], X.iloc[val_index]\n",
    "            y_train, y_val = y.iloc[train_index], y.iloc[val_index]\n",
    "        \n",
    "\n",
    "            clf = CatBoostClassifier(random_seed=42,\n",
    "                                             #iterations=150,\n",
    "                                             #learning_rate=0.0081,\n",
    "                                             #l2_leaf_reg=5,\n",
    "                                             #depth=7,\n",
    "                                             max_bin=254,\n",
    "                                             #auto_class_weights='Balanced',\n",
    "                                             task_type=\"GPU\",\n",
    "                                             thread_count=-1,\n",
    "                                             use_best_model=True,\n",
    "                                             #leaf_estimation_method='Newton', \n",
    "                                             #cat_features=cat_cols,\n",
    "                                             loss_function='MultiLogloss',\n",
    "                                             #eval_metric='Accuracy',\n",
    "                                             #custom_metric=['AUC']\n",
    "                                    )\n",
    "            \n",
    "            clf.fit(X_train, y_train, eval_set=(X_val, y_val),\n",
    "                    verbose=100, plot=False, early_stopping_rounds=200)\n",
    "            clfs.append(clf)\n",
    "\n",
    "            print(roc_auc_score(y_val, clf.predict_proba(X_val), multi_class='ovo'))\n",
    "            scores.append(roc_auc_score(y_val, clf.predict_proba(X_val), multi_class='ovo'))\n",
    "        print(sum(scores) / n_splits)\n",
    "\n",
    "        return clfs\n",
    "\n",
    "    def get_scores(\n",
    "        self,\n",
    "        clfs\n",
    "    ):\n",
    "        scores = pd.DataFrame([])\n",
    "\n",
    "        #test_embeddings_curr = pd.read_parquet(self.test_path).drop_duplicates('client_id')\n",
    "        X_test = test_embeddings_curr.drop(columns=[self.col_id])\n",
    "        ids = test_embeddings_curr[self.col_id]\n",
    "        score = np.zeros((len(X_test), 4))\n",
    "        for clf in clfs:\n",
    "            score += clf.predict_proba(X_test) / self.n_splits\n",
    "        scores = pd.concat([ids, pd.DataFrame(score,\n",
    "                                             columns=['target_1',\n",
    "                                                      'target_2',\n",
    "                                                      'target_3',\n",
    "                                                      'target_4'])], axis=1)\n",
    "\n",
    "        return scores\n",
    "\n",
    "    def run(self):\n",
    "        clfs = self.fit()\n",
    "        scores = self.get_scores(clfs)\n",
    "        \n",
    "        scores.to_csv(self.result_path)\n",
    "\n",
    "        return scores"
   ]
  },
  {
   "cell_type": "code",
   "execution_count": 10,
   "id": "ae6d543e",
   "metadata": {},
   "outputs": [
    {
     "name": "stdout",
     "output_type": "stream",
     "text": [
      "Learning rate set to 0.036162\n",
      "0:\tlearn: 0.6017062\ttest: 0.6017277\tbest: 0.6017277 (0)\ttotal: 393ms\tremaining: 6m 32s\n",
      "100:\tlearn: 0.0383840\ttest: 0.0391342\tbest: 0.0391342 (100)\ttotal: 32.6s\tremaining: 4m 50s\n",
      "200:\tlearn: 0.0379660\ttest: 0.0387830\tbest: 0.0387830 (200)\ttotal: 1m 1s\tremaining: 4m 3s\n",
      "300:\tlearn: 0.0377697\ttest: 0.0386326\tbest: 0.0386326 (300)\ttotal: 1m 28s\tremaining: 3m 24s\n",
      "400:\tlearn: 0.0376204\ttest: 0.0385224\tbest: 0.0385224 (400)\ttotal: 1m 54s\tremaining: 2m 51s\n",
      "500:\tlearn: 0.0374932\ttest: 0.0384363\tbest: 0.0384363 (500)\ttotal: 2m 20s\tremaining: 2m 20s\n",
      "600:\tlearn: 0.0373912\ttest: 0.0383717\tbest: 0.0383717 (600)\ttotal: 2m 46s\tremaining: 1m 50s\n",
      "700:\tlearn: 0.0373022\ttest: 0.0383221\tbest: 0.0383221 (700)\ttotal: 3m 11s\tremaining: 1m 21s\n",
      "800:\tlearn: 0.0372220\ttest: 0.0382775\tbest: 0.0382775 (800)\ttotal: 3m 36s\tremaining: 53.8s\n",
      "900:\tlearn: 0.0371419\ttest: 0.0382347\tbest: 0.0382347 (900)\ttotal: 4m 2s\tremaining: 26.6s\n",
      "999:\tlearn: 0.0370701\ttest: 0.0381982\tbest: 0.0381982 (999)\ttotal: 4m 27s\tremaining: 0us\n",
      "bestTest = 0.03819822812\n",
      "bestIteration = 999\n",
      "0.7325047742968089\n",
      "Learning rate set to 0.036162\n",
      "0:\tlearn: 0.6015362\ttest: 0.6015287\tbest: 0.6015287 (0)\ttotal: 349ms\tremaining: 5m 48s\n",
      "100:\tlearn: 0.0385896\ttest: 0.0384402\tbest: 0.0384402 (100)\ttotal: 33.6s\tremaining: 4m 58s\n",
      "200:\tlearn: 0.0381411\ttest: 0.0380519\tbest: 0.0380519 (200)\ttotal: 1m 2s\tremaining: 4m 7s\n",
      "300:\tlearn: 0.0379278\ttest: 0.0378897\tbest: 0.0378897 (300)\ttotal: 1m 28s\tremaining: 3m 25s\n",
      "400:\tlearn: 0.0377719\ttest: 0.0377841\tbest: 0.0377841 (400)\ttotal: 1m 55s\tremaining: 2m 51s\n",
      "500:\tlearn: 0.0376449\ttest: 0.0377017\tbest: 0.0377017 (500)\ttotal: 2m 21s\tremaining: 2m 20s\n",
      "600:\tlearn: 0.0375372\ttest: 0.0376364\tbest: 0.0376364 (600)\ttotal: 2m 47s\tremaining: 1m 51s\n",
      "700:\tlearn: 0.0374386\ttest: 0.0375818\tbest: 0.0375818 (700)\ttotal: 3m 13s\tremaining: 1m 22s\n",
      "800:\tlearn: 0.0373565\ttest: 0.0375382\tbest: 0.0375382 (800)\ttotal: 3m 38s\tremaining: 54.3s\n",
      "900:\tlearn: 0.0372815\ttest: 0.0375017\tbest: 0.0375017 (900)\ttotal: 4m 4s\tremaining: 26.8s\n",
      "999:\tlearn: 0.0372140\ttest: 0.0374713\tbest: 0.0374713 (999)\ttotal: 4m 29s\tremaining: 0us\n",
      "bestTest = 0.0374713175\n",
      "bestIteration = 999\n",
      "0.7367163534700754\n",
      "Learning rate set to 0.036162\n",
      "0:\tlearn: 0.6019534\ttest: 0.6019190\tbest: 0.6019190 (0)\ttotal: 367ms\tremaining: 6m 6s\n",
      "100:\tlearn: 0.0387223\ttest: 0.0379591\tbest: 0.0379591 (100)\ttotal: 33.4s\tremaining: 4m 57s\n",
      "200:\tlearn: 0.0382821\ttest: 0.0375683\tbest: 0.0375683 (200)\ttotal: 1m 2s\tremaining: 4m 9s\n",
      "300:\tlearn: 0.0380766\ttest: 0.0374159\tbest: 0.0374159 (300)\ttotal: 1m 29s\tremaining: 3m 28s\n",
      "400:\tlearn: 0.0379216\ttest: 0.0373086\tbest: 0.0373086 (400)\ttotal: 1m 56s\tremaining: 2m 54s\n",
      "500:\tlearn: 0.0377941\ttest: 0.0372248\tbest: 0.0372248 (500)\ttotal: 2m 22s\tremaining: 2m 21s\n",
      "600:\tlearn: 0.0376894\ttest: 0.0371622\tbest: 0.0371622 (600)\ttotal: 2m 48s\tremaining: 1m 52s\n",
      "700:\tlearn: 0.0375961\ttest: 0.0371125\tbest: 0.0371125 (700)\ttotal: 3m 14s\tremaining: 1m 22s\n",
      "800:\tlearn: 0.0375150\ttest: 0.0370689\tbest: 0.0370689 (800)\ttotal: 3m 40s\tremaining: 54.7s\n",
      "900:\tlearn: 0.0374350\ttest: 0.0370274\tbest: 0.0370274 (900)\ttotal: 4m 6s\tremaining: 27s\n",
      "999:\tlearn: 0.0373660\ttest: 0.0369957\tbest: 0.0369957 (999)\ttotal: 4m 30s\tremaining: 0us\n",
      "bestTest = 0.03699573875\n",
      "bestIteration = 999\n",
      "0.7361476144475703\n",
      "Learning rate set to 0.036162\n",
      "0:\tlearn: 0.6016006\ttest: 0.6016034\tbest: 0.6016034 (0)\ttotal: 365ms\tremaining: 6m 4s\n",
      "100:\tlearn: 0.0385735\ttest: 0.0385012\tbest: 0.0385012 (100)\ttotal: 32.2s\tremaining: 4m 46s\n",
      "200:\tlearn: 0.0381125\ttest: 0.0381102\tbest: 0.0381102 (200)\ttotal: 1m 1s\tremaining: 4m 3s\n"
     ]
    },
    {
     "ename": "KeyboardInterrupt",
     "evalue": "",
     "output_type": "error",
     "traceback": [
      "\u001b[0;31m---------------------------------------------------------------------------\u001b[0m",
      "\u001b[0;31mKeyboardInterrupt\u001b[0m                         Traceback (most recent call last)",
      "Cell \u001b[0;32mIn[10], line 8\u001b[0m\n\u001b[1;32m      1\u001b[0m dw \u001b[38;5;241m=\u001b[39m Downstream(\n\u001b[1;32m      2\u001b[0m     train_path\u001b[38;5;241m=\u001b[39m\u001b[38;5;124m\"\u001b[39m\u001b[38;5;124mtrain.parquet\u001b[39m\u001b[38;5;124m\"\u001b[39m,\n\u001b[1;32m      3\u001b[0m     test_path\u001b[38;5;241m=\u001b[39m\u001b[38;5;124m\"\u001b[39m\u001b[38;5;124mnot_only_trx.parquet\u001b[39m\u001b[38;5;124m\"\u001b[39m,\n\u001b[1;32m      4\u001b[0m     n_splits\u001b[38;5;241m=\u001b[39m\u001b[38;5;241m5\u001b[39m,\n\u001b[1;32m      5\u001b[0m     result_path\u001b[38;5;241m=\u001b[39m\u001b[38;5;124m'\u001b[39m\u001b[38;5;124msample_Gmission400254.csv\u001b[39m\u001b[38;5;124m'\u001b[39m\n\u001b[1;32m      6\u001b[0m )\n\u001b[0;32m----> 8\u001b[0m scores \u001b[38;5;241m=\u001b[39m \u001b[43mdw\u001b[49m\u001b[38;5;241;43m.\u001b[39;49m\u001b[43mrun\u001b[49m\u001b[43m(\u001b[49m\u001b[43m)\u001b[49m\n\u001b[1;32m      9\u001b[0m scores\n",
      "Cell \u001b[0;32mIn[9], line 89\u001b[0m, in \u001b[0;36mDownstream.run\u001b[0;34m(self)\u001b[0m\n\u001b[1;32m     88\u001b[0m \u001b[38;5;28;01mdef\u001b[39;00m \u001b[38;5;21mrun\u001b[39m(\u001b[38;5;28mself\u001b[39m):\n\u001b[0;32m---> 89\u001b[0m     clfs \u001b[38;5;241m=\u001b[39m \u001b[38;5;28;43mself\u001b[39;49m\u001b[38;5;241;43m.\u001b[39;49m\u001b[43mfit\u001b[49m\u001b[43m(\u001b[49m\u001b[43m)\u001b[49m\n\u001b[1;32m     90\u001b[0m     scores \u001b[38;5;241m=\u001b[39m \u001b[38;5;28mself\u001b[39m\u001b[38;5;241m.\u001b[39mget_scores(clfs)\n\u001b[1;32m     92\u001b[0m     scores\u001b[38;5;241m.\u001b[39mto_csv(\u001b[38;5;28mself\u001b[39m\u001b[38;5;241m.\u001b[39mresult_path)\n",
      "Cell \u001b[0;32mIn[9], line 58\u001b[0m, in \u001b[0;36mDownstream.fit\u001b[0;34m(self)\u001b[0m\n\u001b[1;32m     38\u001b[0m y_train, y_val \u001b[38;5;241m=\u001b[39m y\u001b[38;5;241m.\u001b[39miloc[train_index], y\u001b[38;5;241m.\u001b[39miloc[val_index]\n\u001b[1;32m     41\u001b[0m clf \u001b[38;5;241m=\u001b[39m CatBoostClassifier(random_seed\u001b[38;5;241m=\u001b[39m\u001b[38;5;241m42\u001b[39m,\n\u001b[1;32m     42\u001b[0m                                  \u001b[38;5;66;03m#iterations=150,\u001b[39;00m\n\u001b[1;32m     43\u001b[0m                                  \u001b[38;5;66;03m#learning_rate=0.0081,\u001b[39;00m\n\u001b[0;32m   (...)\u001b[0m\n\u001b[1;32m     55\u001b[0m                                  \u001b[38;5;66;03m#custom_metric=['AUC']\u001b[39;00m\n\u001b[1;32m     56\u001b[0m                         )\n\u001b[0;32m---> 58\u001b[0m \u001b[43mclf\u001b[49m\u001b[38;5;241;43m.\u001b[39;49m\u001b[43mfit\u001b[49m\u001b[43m(\u001b[49m\u001b[43mX_train\u001b[49m\u001b[43m,\u001b[49m\u001b[43m \u001b[49m\u001b[43my_train\u001b[49m\u001b[43m,\u001b[49m\u001b[43m \u001b[49m\u001b[43meval_set\u001b[49m\u001b[38;5;241;43m=\u001b[39;49m\u001b[43m(\u001b[49m\u001b[43mX_val\u001b[49m\u001b[43m,\u001b[49m\u001b[43m \u001b[49m\u001b[43my_val\u001b[49m\u001b[43m)\u001b[49m\u001b[43m,\u001b[49m\n\u001b[1;32m     59\u001b[0m \u001b[43m        \u001b[49m\u001b[43mverbose\u001b[49m\u001b[38;5;241;43m=\u001b[39;49m\u001b[38;5;241;43m100\u001b[39;49m\u001b[43m,\u001b[49m\u001b[43m \u001b[49m\u001b[43mplot\u001b[49m\u001b[38;5;241;43m=\u001b[39;49m\u001b[38;5;28;43;01mFalse\u001b[39;49;00m\u001b[43m,\u001b[49m\u001b[43m \u001b[49m\u001b[43mearly_stopping_rounds\u001b[49m\u001b[38;5;241;43m=\u001b[39;49m\u001b[38;5;241;43m200\u001b[39;49m\u001b[43m)\u001b[49m\n\u001b[1;32m     60\u001b[0m clfs\u001b[38;5;241m.\u001b[39mappend(clf)\n\u001b[1;32m     62\u001b[0m \u001b[38;5;28mprint\u001b[39m(roc_auc_score(y_val, clf\u001b[38;5;241m.\u001b[39mpredict_proba(X_val), multi_class\u001b[38;5;241m=\u001b[39m\u001b[38;5;124m'\u001b[39m\u001b[38;5;124movo\u001b[39m\u001b[38;5;124m'\u001b[39m))\n",
      "File \u001b[0;32m~/venvs/sinara/lib/python3.10/site-packages/catboost/core.py:5201\u001b[0m, in \u001b[0;36mCatBoostClassifier.fit\u001b[0;34m(self, X, y, cat_features, text_features, embedding_features, sample_weight, baseline, use_best_model, eval_set, verbose, logging_level, plot, plot_file, column_description, verbose_eval, metric_period, silent, early_stopping_rounds, save_snapshot, snapshot_file, snapshot_interval, init_model, callbacks, log_cout, log_cerr)\u001b[0m\n\u001b[1;32m   5198\u001b[0m \u001b[38;5;28;01mif\u001b[39;00m \u001b[38;5;124m'\u001b[39m\u001b[38;5;124mloss_function\u001b[39m\u001b[38;5;124m'\u001b[39m \u001b[38;5;129;01min\u001b[39;00m params:\n\u001b[1;32m   5199\u001b[0m     CatBoostClassifier\u001b[38;5;241m.\u001b[39m_check_is_compatible_loss(params[\u001b[38;5;124m'\u001b[39m\u001b[38;5;124mloss_function\u001b[39m\u001b[38;5;124m'\u001b[39m])\n\u001b[0;32m-> 5201\u001b[0m \u001b[38;5;28;43mself\u001b[39;49m\u001b[38;5;241;43m.\u001b[39;49m\u001b[43m_fit\u001b[49m\u001b[43m(\u001b[49m\u001b[43mX\u001b[49m\u001b[43m,\u001b[49m\u001b[43m \u001b[49m\u001b[43my\u001b[49m\u001b[43m,\u001b[49m\u001b[43m \u001b[49m\u001b[43mcat_features\u001b[49m\u001b[43m,\u001b[49m\u001b[43m \u001b[49m\u001b[43mtext_features\u001b[49m\u001b[43m,\u001b[49m\u001b[43m \u001b[49m\u001b[43membedding_features\u001b[49m\u001b[43m,\u001b[49m\u001b[43m \u001b[49m\u001b[38;5;28;43;01mNone\u001b[39;49;00m\u001b[43m,\u001b[49m\u001b[43m \u001b[49m\u001b[43msample_weight\u001b[49m\u001b[43m,\u001b[49m\u001b[43m \u001b[49m\u001b[38;5;28;43;01mNone\u001b[39;49;00m\u001b[43m,\u001b[49m\u001b[43m \u001b[49m\u001b[38;5;28;43;01mNone\u001b[39;49;00m\u001b[43m,\u001b[49m\u001b[43m \u001b[49m\u001b[38;5;28;43;01mNone\u001b[39;49;00m\u001b[43m,\u001b[49m\u001b[43m \u001b[49m\u001b[38;5;28;43;01mNone\u001b[39;49;00m\u001b[43m,\u001b[49m\u001b[43m \u001b[49m\u001b[43mbaseline\u001b[49m\u001b[43m,\u001b[49m\u001b[43m \u001b[49m\u001b[43muse_best_model\u001b[49m\u001b[43m,\u001b[49m\n\u001b[1;32m   5202\u001b[0m \u001b[43m          \u001b[49m\u001b[43meval_set\u001b[49m\u001b[43m,\u001b[49m\u001b[43m \u001b[49m\u001b[43mverbose\u001b[49m\u001b[43m,\u001b[49m\u001b[43m \u001b[49m\u001b[43mlogging_level\u001b[49m\u001b[43m,\u001b[49m\u001b[43m \u001b[49m\u001b[43mplot\u001b[49m\u001b[43m,\u001b[49m\u001b[43m \u001b[49m\u001b[43mplot_file\u001b[49m\u001b[43m,\u001b[49m\u001b[43m \u001b[49m\u001b[43mcolumn_description\u001b[49m\u001b[43m,\u001b[49m\u001b[43m \u001b[49m\u001b[43mverbose_eval\u001b[49m\u001b[43m,\u001b[49m\u001b[43m \u001b[49m\u001b[43mmetric_period\u001b[49m\u001b[43m,\u001b[49m\n\u001b[1;32m   5203\u001b[0m \u001b[43m          \u001b[49m\u001b[43msilent\u001b[49m\u001b[43m,\u001b[49m\u001b[43m \u001b[49m\u001b[43mearly_stopping_rounds\u001b[49m\u001b[43m,\u001b[49m\u001b[43m \u001b[49m\u001b[43msave_snapshot\u001b[49m\u001b[43m,\u001b[49m\u001b[43m \u001b[49m\u001b[43msnapshot_file\u001b[49m\u001b[43m,\u001b[49m\u001b[43m \u001b[49m\u001b[43msnapshot_interval\u001b[49m\u001b[43m,\u001b[49m\u001b[43m \u001b[49m\u001b[43minit_model\u001b[49m\u001b[43m,\u001b[49m\u001b[43m \u001b[49m\u001b[43mcallbacks\u001b[49m\u001b[43m,\u001b[49m\u001b[43m \u001b[49m\u001b[43mlog_cout\u001b[49m\u001b[43m,\u001b[49m\u001b[43m \u001b[49m\u001b[43mlog_cerr\u001b[49m\u001b[43m)\u001b[49m\n\u001b[1;32m   5204\u001b[0m \u001b[38;5;28;01mreturn\u001b[39;00m \u001b[38;5;28mself\u001b[39m\n",
      "File \u001b[0;32m~/venvs/sinara/lib/python3.10/site-packages/catboost/core.py:2396\u001b[0m, in \u001b[0;36mCatBoost._fit\u001b[0;34m(self, X, y, cat_features, text_features, embedding_features, pairs, sample_weight, group_id, group_weight, subgroup_id, pairs_weight, baseline, use_best_model, eval_set, verbose, logging_level, plot, plot_file, column_description, verbose_eval, metric_period, silent, early_stopping_rounds, save_snapshot, snapshot_file, snapshot_interval, init_model, callbacks, log_cout, log_cerr)\u001b[0m\n\u001b[1;32m   2393\u001b[0m allow_clear_pool \u001b[38;5;241m=\u001b[39m train_params[\u001b[38;5;124m\"\u001b[39m\u001b[38;5;124mallow_clear_pool\u001b[39m\u001b[38;5;124m\"\u001b[39m]\n\u001b[1;32m   2395\u001b[0m \u001b[38;5;28;01mwith\u001b[39;00m plot_wrapper(plot, plot_file, \u001b[38;5;124m'\u001b[39m\u001b[38;5;124mTraining plots\u001b[39m\u001b[38;5;124m'\u001b[39m, [_get_train_dir(\u001b[38;5;28mself\u001b[39m\u001b[38;5;241m.\u001b[39mget_params())]):\n\u001b[0;32m-> 2396\u001b[0m     \u001b[38;5;28;43mself\u001b[39;49m\u001b[38;5;241;43m.\u001b[39;49m\u001b[43m_train\u001b[49m\u001b[43m(\u001b[49m\n\u001b[1;32m   2397\u001b[0m \u001b[43m        \u001b[49m\u001b[43mtrain_pool\u001b[49m\u001b[43m,\u001b[49m\n\u001b[1;32m   2398\u001b[0m \u001b[43m        \u001b[49m\u001b[43mtrain_params\u001b[49m\u001b[43m[\u001b[49m\u001b[38;5;124;43m\"\u001b[39;49m\u001b[38;5;124;43meval_sets\u001b[39;49m\u001b[38;5;124;43m\"\u001b[39;49m\u001b[43m]\u001b[49m\u001b[43m,\u001b[49m\n\u001b[1;32m   2399\u001b[0m \u001b[43m        \u001b[49m\u001b[43mparams\u001b[49m\u001b[43m,\u001b[49m\n\u001b[1;32m   2400\u001b[0m \u001b[43m        \u001b[49m\u001b[43mallow_clear_pool\u001b[49m\u001b[43m,\u001b[49m\n\u001b[1;32m   2401\u001b[0m \u001b[43m        \u001b[49m\u001b[43mtrain_params\u001b[49m\u001b[43m[\u001b[49m\u001b[38;5;124;43m\"\u001b[39;49m\u001b[38;5;124;43minit_model\u001b[39;49m\u001b[38;5;124;43m\"\u001b[39;49m\u001b[43m]\u001b[49m\n\u001b[1;32m   2402\u001b[0m \u001b[43m    \u001b[49m\u001b[43m)\u001b[49m\n\u001b[1;32m   2404\u001b[0m \u001b[38;5;66;03m# Have property feature_importance possibly set\u001b[39;00m\n\u001b[1;32m   2405\u001b[0m loss \u001b[38;5;241m=\u001b[39m \u001b[38;5;28mself\u001b[39m\u001b[38;5;241m.\u001b[39m_object\u001b[38;5;241m.\u001b[39m_get_loss_function_name()\n",
      "File \u001b[0;32m~/venvs/sinara/lib/python3.10/site-packages/catboost/core.py:1776\u001b[0m, in \u001b[0;36m_CatBoostBase._train\u001b[0;34m(self, train_pool, test_pool, params, allow_clear_pool, init_model)\u001b[0m\n\u001b[1;32m   1775\u001b[0m \u001b[38;5;28;01mdef\u001b[39;00m \u001b[38;5;21m_train\u001b[39m(\u001b[38;5;28mself\u001b[39m, train_pool, test_pool, params, allow_clear_pool, init_model):\n\u001b[0;32m-> 1776\u001b[0m     \u001b[38;5;28;43mself\u001b[39;49m\u001b[38;5;241;43m.\u001b[39;49m\u001b[43m_object\u001b[49m\u001b[38;5;241;43m.\u001b[39;49m\u001b[43m_train\u001b[49m\u001b[43m(\u001b[49m\u001b[43mtrain_pool\u001b[49m\u001b[43m,\u001b[49m\u001b[43m \u001b[49m\u001b[43mtest_pool\u001b[49m\u001b[43m,\u001b[49m\u001b[43m \u001b[49m\u001b[43mparams\u001b[49m\u001b[43m,\u001b[49m\u001b[43m \u001b[49m\u001b[43mallow_clear_pool\u001b[49m\u001b[43m,\u001b[49m\u001b[43m \u001b[49m\u001b[43minit_model\u001b[49m\u001b[38;5;241;43m.\u001b[39;49m\u001b[43m_object\u001b[49m\u001b[43m \u001b[49m\u001b[38;5;28;43;01mif\u001b[39;49;00m\u001b[43m \u001b[49m\u001b[43minit_model\u001b[49m\u001b[43m \u001b[49m\u001b[38;5;28;43;01melse\u001b[39;49;00m\u001b[43m \u001b[49m\u001b[38;5;28;43;01mNone\u001b[39;49;00m\u001b[43m)\u001b[49m\n\u001b[1;32m   1777\u001b[0m     \u001b[38;5;28mself\u001b[39m\u001b[38;5;241m.\u001b[39m_set_trained_model_attributes()\n",
      "File \u001b[0;32m_catboost.pyx:4833\u001b[0m, in \u001b[0;36m_catboost._CatBoost._train\u001b[0;34m()\u001b[0m\n",
      "File \u001b[0;32m_catboost.pyx:4882\u001b[0m, in \u001b[0;36m_catboost._CatBoost._train\u001b[0;34m()\u001b[0m\n",
      "\u001b[0;31mKeyboardInterrupt\u001b[0m: "
     ]
    }
   ],
   "source": [
    "dw = Downstream(\n",
    "    train_path=\"train.parquet\",\n",
    "    test_path=\"not_only_trx.parquet\",\n",
    "    n_splits=5,\n",
    "    result_path='sample_Gmission400254.csv'\n",
    ")\n",
    "\n",
    "scores = dw.run()\n",
    "scores"
   ]
  },
  {
   "cell_type": "code",
   "execution_count": null,
   "id": "1e159ce2-5c8b-42f7-b35c-fa26574eac5e",
   "metadata": {},
   "outputs": [],
   "source": [
    "scores"
   ]
  },
  {
   "cell_type": "code",
   "execution_count": null,
   "id": "6aa375c9-21da-4713-a239-0d952753f713",
   "metadata": {},
   "outputs": [],
   "source": []
  },
  {
   "cell_type": "code",
   "execution_count": null,
   "id": "c983eb16-5a58-4fbb-a8af-287644c158b6",
   "metadata": {},
   "outputs": [],
   "source": []
  }
 ],
 "metadata": {
  "colab": {
   "provenance": []
  },
  "kernelspec": {
   "display_name": "cv",
   "language": "python",
   "name": "python3"
  },
  "language_info": {
   "codemirror_mode": {
    "name": "ipython",
    "version": 3
   },
   "file_extension": ".py",
   "mimetype": "text/x-python",
   "name": "python",
   "nbconvert_exporter": "python",
   "pygments_lexer": "ipython3",
   "version": "3.10.12"
  }
 },
 "nbformat": 4,
 "nbformat_minor": 5
}
