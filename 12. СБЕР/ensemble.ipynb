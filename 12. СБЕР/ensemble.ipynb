{
 "cells": [
  {
   "cell_type": "code",
   "execution_count": 21,
   "id": "b95d89d2-5c17-40b7-a568-75c5c61c19b6",
   "metadata": {},
   "outputs": [],
   "source": [
    "import pandas as pd"
   ]
  },
  {
   "cell_type": "code",
   "execution_count": 22,
   "id": "8ed72134-5e20-42cb-9cdb-622d80b6076a",
   "metadata": {},
   "outputs": [],
   "source": [
    "df_trx = pd.read_csv('./df_trx.csv')\n",
    "df_geo = pd.read_csv('./df_geo.csv')\n",
    "df_dial = pd.read_csv('./df_dial.csv')"
   ]
  },
  {
   "cell_type": "code",
   "execution_count": 23,
   "id": "7087405b-a257-4efd-bd39-15ac8956e6e6",
   "metadata": {},
   "outputs": [],
   "source": [
    "target_columns = ['target_1', 'target_2', 'target_3', 'target_4']"
   ]
  },
  {
   "cell_type": "code",
   "execution_count": 40,
   "id": "e3d921e4-42ae-4eb4-8aa2-d11e247cb292",
   "metadata": {},
   "outputs": [],
   "source": [
    "weighted_mean_values = (df_trx[target_columns] * 0.55 + df_geo[target_columns] * 0.25 + df_dial[target_columns] * 0.2)"
   ]
  },
  {
   "cell_type": "code",
   "execution_count": 41,
   "id": "c8cda4c3-9c38-4a9a-abad-39e5e6c3e65e",
   "metadata": {},
   "outputs": [],
   "source": [
    "df_trx[target_columns] = weighted_mean_values # перезапишем в датафрейм новые значения"
   ]
  },
  {
   "cell_type": "code",
   "execution_count": 33,
   "id": "cf79bccb-fd60-4468-896b-77d349e898d5",
   "metadata": {
    "collapsed": true,
    "jupyter": {
     "outputs_hidden": true
    }
   },
   "outputs": [
    {
     "ename": "KeyError",
     "evalue": "\"['Unnamed: 0'] not found in axis\"",
     "output_type": "error",
     "traceback": [
      "\u001b[0;31m---------------------------------------------------------------------------\u001b[0m",
      "\u001b[0;31mKeyError\u001b[0m                                  Traceback (most recent call last)",
      "Cell \u001b[0;32mIn[33], line 1\u001b[0m\n\u001b[0;32m----> 1\u001b[0m \u001b[43mdf_trx\u001b[49m\u001b[38;5;241;43m.\u001b[39;49m\u001b[43mdrop\u001b[49m\u001b[43m(\u001b[49m\u001b[43mcolumns\u001b[49m\u001b[38;5;241;43m=\u001b[39;49m\u001b[43m[\u001b[49m\u001b[38;5;124;43m'\u001b[39;49m\u001b[38;5;124;43mUnnamed: 0\u001b[39;49m\u001b[38;5;124;43m'\u001b[39;49m\u001b[43m]\u001b[49m\u001b[43m,\u001b[49m\u001b[43minplace\u001b[49m\u001b[38;5;241;43m=\u001b[39;49m\u001b[38;5;28;43;01mTrue\u001b[39;49;00m\u001b[43m)\u001b[49m\n",
      "File \u001b[0;32m~/venvs/sinara/lib/python3.10/site-packages/pandas/util/_decorators.py:311\u001b[0m, in \u001b[0;36mdeprecate_nonkeyword_arguments.<locals>.decorate.<locals>.wrapper\u001b[0;34m(*args, **kwargs)\u001b[0m\n\u001b[1;32m    305\u001b[0m \u001b[38;5;28;01mif\u001b[39;00m \u001b[38;5;28mlen\u001b[39m(args) \u001b[38;5;241m>\u001b[39m num_allow_args:\n\u001b[1;32m    306\u001b[0m     warnings\u001b[38;5;241m.\u001b[39mwarn(\n\u001b[1;32m    307\u001b[0m         msg\u001b[38;5;241m.\u001b[39mformat(arguments\u001b[38;5;241m=\u001b[39marguments),\n\u001b[1;32m    308\u001b[0m         \u001b[38;5;167;01mFutureWarning\u001b[39;00m,\n\u001b[1;32m    309\u001b[0m         stacklevel\u001b[38;5;241m=\u001b[39mstacklevel,\n\u001b[1;32m    310\u001b[0m     )\n\u001b[0;32m--> 311\u001b[0m \u001b[38;5;28;01mreturn\u001b[39;00m \u001b[43mfunc\u001b[49m\u001b[43m(\u001b[49m\u001b[38;5;241;43m*\u001b[39;49m\u001b[43margs\u001b[49m\u001b[43m,\u001b[49m\u001b[43m \u001b[49m\u001b[38;5;241;43m*\u001b[39;49m\u001b[38;5;241;43m*\u001b[39;49m\u001b[43mkwargs\u001b[49m\u001b[43m)\u001b[49m\n",
      "File \u001b[0;32m~/venvs/sinara/lib/python3.10/site-packages/pandas/core/frame.py:4906\u001b[0m, in \u001b[0;36mDataFrame.drop\u001b[0;34m(self, labels, axis, index, columns, level, inplace, errors)\u001b[0m\n\u001b[1;32m   4774\u001b[0m \u001b[38;5;129m@deprecate_nonkeyword_arguments\u001b[39m(version\u001b[38;5;241m=\u001b[39m\u001b[38;5;28;01mNone\u001b[39;00m, allowed_args\u001b[38;5;241m=\u001b[39m[\u001b[38;5;124m\"\u001b[39m\u001b[38;5;124mself\u001b[39m\u001b[38;5;124m\"\u001b[39m, \u001b[38;5;124m\"\u001b[39m\u001b[38;5;124mlabels\u001b[39m\u001b[38;5;124m\"\u001b[39m])\n\u001b[1;32m   4775\u001b[0m \u001b[38;5;28;01mdef\u001b[39;00m \u001b[38;5;21mdrop\u001b[39m(\n\u001b[1;32m   4776\u001b[0m     \u001b[38;5;28mself\u001b[39m,\n\u001b[0;32m   (...)\u001b[0m\n\u001b[1;32m   4783\u001b[0m     errors: \u001b[38;5;28mstr\u001b[39m \u001b[38;5;241m=\u001b[39m \u001b[38;5;124m\"\u001b[39m\u001b[38;5;124mraise\u001b[39m\u001b[38;5;124m\"\u001b[39m,\n\u001b[1;32m   4784\u001b[0m ):\n\u001b[1;32m   4785\u001b[0m \u001b[38;5;250m    \u001b[39m\u001b[38;5;124;03m\"\"\"\u001b[39;00m\n\u001b[1;32m   4786\u001b[0m \u001b[38;5;124;03m    Drop specified labels from rows or columns.\u001b[39;00m\n\u001b[1;32m   4787\u001b[0m \n\u001b[0;32m   (...)\u001b[0m\n\u001b[1;32m   4904\u001b[0m \u001b[38;5;124;03m            weight  1.0     0.8\u001b[39;00m\n\u001b[1;32m   4905\u001b[0m \u001b[38;5;124;03m    \"\"\"\u001b[39;00m\n\u001b[0;32m-> 4906\u001b[0m     \u001b[38;5;28;01mreturn\u001b[39;00m \u001b[38;5;28;43msuper\u001b[39;49m\u001b[43m(\u001b[49m\u001b[43m)\u001b[49m\u001b[38;5;241;43m.\u001b[39;49m\u001b[43mdrop\u001b[49m\u001b[43m(\u001b[49m\n\u001b[1;32m   4907\u001b[0m \u001b[43m        \u001b[49m\u001b[43mlabels\u001b[49m\u001b[38;5;241;43m=\u001b[39;49m\u001b[43mlabels\u001b[49m\u001b[43m,\u001b[49m\n\u001b[1;32m   4908\u001b[0m \u001b[43m        \u001b[49m\u001b[43maxis\u001b[49m\u001b[38;5;241;43m=\u001b[39;49m\u001b[43maxis\u001b[49m\u001b[43m,\u001b[49m\n\u001b[1;32m   4909\u001b[0m \u001b[43m        \u001b[49m\u001b[43mindex\u001b[49m\u001b[38;5;241;43m=\u001b[39;49m\u001b[43mindex\u001b[49m\u001b[43m,\u001b[49m\n\u001b[1;32m   4910\u001b[0m \u001b[43m        \u001b[49m\u001b[43mcolumns\u001b[49m\u001b[38;5;241;43m=\u001b[39;49m\u001b[43mcolumns\u001b[49m\u001b[43m,\u001b[49m\n\u001b[1;32m   4911\u001b[0m \u001b[43m        \u001b[49m\u001b[43mlevel\u001b[49m\u001b[38;5;241;43m=\u001b[39;49m\u001b[43mlevel\u001b[49m\u001b[43m,\u001b[49m\n\u001b[1;32m   4912\u001b[0m \u001b[43m        \u001b[49m\u001b[43minplace\u001b[49m\u001b[38;5;241;43m=\u001b[39;49m\u001b[43minplace\u001b[49m\u001b[43m,\u001b[49m\n\u001b[1;32m   4913\u001b[0m \u001b[43m        \u001b[49m\u001b[43merrors\u001b[49m\u001b[38;5;241;43m=\u001b[39;49m\u001b[43merrors\u001b[49m\u001b[43m,\u001b[49m\n\u001b[1;32m   4914\u001b[0m \u001b[43m    \u001b[49m\u001b[43m)\u001b[49m\n",
      "File \u001b[0;32m~/venvs/sinara/lib/python3.10/site-packages/pandas/core/generic.py:4150\u001b[0m, in \u001b[0;36mNDFrame.drop\u001b[0;34m(self, labels, axis, index, columns, level, inplace, errors)\u001b[0m\n\u001b[1;32m   4148\u001b[0m \u001b[38;5;28;01mfor\u001b[39;00m axis, labels \u001b[38;5;129;01min\u001b[39;00m axes\u001b[38;5;241m.\u001b[39mitems():\n\u001b[1;32m   4149\u001b[0m     \u001b[38;5;28;01mif\u001b[39;00m labels \u001b[38;5;129;01mis\u001b[39;00m \u001b[38;5;129;01mnot\u001b[39;00m \u001b[38;5;28;01mNone\u001b[39;00m:\n\u001b[0;32m-> 4150\u001b[0m         obj \u001b[38;5;241m=\u001b[39m \u001b[43mobj\u001b[49m\u001b[38;5;241;43m.\u001b[39;49m\u001b[43m_drop_axis\u001b[49m\u001b[43m(\u001b[49m\u001b[43mlabels\u001b[49m\u001b[43m,\u001b[49m\u001b[43m \u001b[49m\u001b[43maxis\u001b[49m\u001b[43m,\u001b[49m\u001b[43m \u001b[49m\u001b[43mlevel\u001b[49m\u001b[38;5;241;43m=\u001b[39;49m\u001b[43mlevel\u001b[49m\u001b[43m,\u001b[49m\u001b[43m \u001b[49m\u001b[43merrors\u001b[49m\u001b[38;5;241;43m=\u001b[39;49m\u001b[43merrors\u001b[49m\u001b[43m)\u001b[49m\n\u001b[1;32m   4152\u001b[0m \u001b[38;5;28;01mif\u001b[39;00m inplace:\n\u001b[1;32m   4153\u001b[0m     \u001b[38;5;28mself\u001b[39m\u001b[38;5;241m.\u001b[39m_update_inplace(obj)\n",
      "File \u001b[0;32m~/venvs/sinara/lib/python3.10/site-packages/pandas/core/generic.py:4185\u001b[0m, in \u001b[0;36mNDFrame._drop_axis\u001b[0;34m(self, labels, axis, level, errors)\u001b[0m\n\u001b[1;32m   4183\u001b[0m         new_axis \u001b[38;5;241m=\u001b[39m axis\u001b[38;5;241m.\u001b[39mdrop(labels, level\u001b[38;5;241m=\u001b[39mlevel, errors\u001b[38;5;241m=\u001b[39merrors)\n\u001b[1;32m   4184\u001b[0m     \u001b[38;5;28;01melse\u001b[39;00m:\n\u001b[0;32m-> 4185\u001b[0m         new_axis \u001b[38;5;241m=\u001b[39m \u001b[43maxis\u001b[49m\u001b[38;5;241;43m.\u001b[39;49m\u001b[43mdrop\u001b[49m\u001b[43m(\u001b[49m\u001b[43mlabels\u001b[49m\u001b[43m,\u001b[49m\u001b[43m \u001b[49m\u001b[43merrors\u001b[49m\u001b[38;5;241;43m=\u001b[39;49m\u001b[43merrors\u001b[49m\u001b[43m)\u001b[49m\n\u001b[1;32m   4186\u001b[0m     result \u001b[38;5;241m=\u001b[39m \u001b[38;5;28mself\u001b[39m\u001b[38;5;241m.\u001b[39mreindex(\u001b[38;5;241m*\u001b[39m\u001b[38;5;241m*\u001b[39m{axis_name: new_axis})\n\u001b[1;32m   4188\u001b[0m \u001b[38;5;66;03m# Case for non-unique axis\u001b[39;00m\n\u001b[1;32m   4189\u001b[0m \u001b[38;5;28;01melse\u001b[39;00m:\n",
      "File \u001b[0;32m~/venvs/sinara/lib/python3.10/site-packages/pandas/core/indexes/base.py:6017\u001b[0m, in \u001b[0;36mIndex.drop\u001b[0;34m(self, labels, errors)\u001b[0m\n\u001b[1;32m   6015\u001b[0m \u001b[38;5;28;01mif\u001b[39;00m mask\u001b[38;5;241m.\u001b[39many():\n\u001b[1;32m   6016\u001b[0m     \u001b[38;5;28;01mif\u001b[39;00m errors \u001b[38;5;241m!=\u001b[39m \u001b[38;5;124m\"\u001b[39m\u001b[38;5;124mignore\u001b[39m\u001b[38;5;124m\"\u001b[39m:\n\u001b[0;32m-> 6017\u001b[0m         \u001b[38;5;28;01mraise\u001b[39;00m \u001b[38;5;167;01mKeyError\u001b[39;00m(\u001b[38;5;124mf\u001b[39m\u001b[38;5;124m\"\u001b[39m\u001b[38;5;132;01m{\u001b[39;00mlabels[mask]\u001b[38;5;132;01m}\u001b[39;00m\u001b[38;5;124m not found in axis\u001b[39m\u001b[38;5;124m\"\u001b[39m)\n\u001b[1;32m   6018\u001b[0m     indexer \u001b[38;5;241m=\u001b[39m indexer[\u001b[38;5;241m~\u001b[39mmask]\n\u001b[1;32m   6019\u001b[0m \u001b[38;5;28;01mreturn\u001b[39;00m \u001b[38;5;28mself\u001b[39m\u001b[38;5;241m.\u001b[39mdelete(indexer)\n",
      "\u001b[0;31mKeyError\u001b[0m: \"['Unnamed: 0'] not found in axis\""
     ]
    }
   ],
   "source": [
    "#df_trx.drop(columns=['Unnamed: 0'],inplace=True)"
   ]
  },
  {
   "cell_type": "code",
   "execution_count": 44,
   "id": "4b3af84d-6d22-4c11-9a65-f746190e9994",
   "metadata": {},
   "outputs": [
    {
     "data": {
      "text/html": [
       "<div>\n",
       "<style scoped>\n",
       "    .dataframe tbody tr th:only-of-type {\n",
       "        vertical-align: middle;\n",
       "    }\n",
       "\n",
       "    .dataframe tbody tr th {\n",
       "        vertical-align: top;\n",
       "    }\n",
       "\n",
       "    .dataframe thead th {\n",
       "        text-align: right;\n",
       "    }\n",
       "</style>\n",
       "<table border=\"1\" class=\"dataframe\">\n",
       "  <thead>\n",
       "    <tr style=\"text-align: right;\">\n",
       "      <th></th>\n",
       "      <th>client_id</th>\n",
       "      <th>target_1</th>\n",
       "      <th>target_2</th>\n",
       "      <th>target_3</th>\n",
       "      <th>target_4</th>\n",
       "    </tr>\n",
       "  </thead>\n",
       "  <tbody>\n",
       "    <tr>\n",
       "      <th>0</th>\n",
       "      <td>2b7ff0c1c99cefe259ed83c5dfa0a403f2cbc88032b671...</td>\n",
       "      <td>0.033442</td>\n",
       "      <td>0.196366</td>\n",
       "      <td>0.213223</td>\n",
       "      <td>0.028028</td>\n",
       "    </tr>\n",
       "    <tr>\n",
       "      <th>1</th>\n",
       "      <td>0433d23e224b7a520656da6181efadb8d556bb293158c9...</td>\n",
       "      <td>0.352488</td>\n",
       "      <td>0.246640</td>\n",
       "      <td>0.349318</td>\n",
       "      <td>0.259347</td>\n",
       "    </tr>\n",
       "    <tr>\n",
       "      <th>2</th>\n",
       "      <td>f2ce8b292e5f9f778f3e20db7608ac76dc8812113a2631...</td>\n",
       "      <td>0.222972</td>\n",
       "      <td>0.126494</td>\n",
       "      <td>0.223943</td>\n",
       "      <td>0.259694</td>\n",
       "    </tr>\n",
       "    <tr>\n",
       "      <th>3</th>\n",
       "      <td>4f807e8b163c653bcaeff9f925983568f4c3e6b1a1f231...</td>\n",
       "      <td>0.299434</td>\n",
       "      <td>0.347827</td>\n",
       "      <td>0.341448</td>\n",
       "      <td>0.365244</td>\n",
       "    </tr>\n",
       "    <tr>\n",
       "      <th>4</th>\n",
       "      <td>64369f6f8ae1b719332ee1bfb2b454e642b2053d2c9b8a...</td>\n",
       "      <td>0.112742</td>\n",
       "      <td>0.225809</td>\n",
       "      <td>0.110771</td>\n",
       "      <td>0.046687</td>\n",
       "    </tr>\n",
       "    <tr>\n",
       "      <th>...</th>\n",
       "      <td>...</td>\n",
       "      <td>...</td>\n",
       "      <td>...</td>\n",
       "      <td>...</td>\n",
       "      <td>...</td>\n",
       "    </tr>\n",
       "    <tr>\n",
       "      <th>140483</th>\n",
       "      <td>d49a66825bb16ceb5b6a01126e1f2391b085dba8da44ee...</td>\n",
       "      <td>0.297440</td>\n",
       "      <td>0.187896</td>\n",
       "      <td>0.352318</td>\n",
       "      <td>0.268164</td>\n",
       "    </tr>\n",
       "    <tr>\n",
       "      <th>140484</th>\n",
       "      <td>f772af6720c0b591d49b97946c5e420c1c077affc0f7c7...</td>\n",
       "      <td>0.114246</td>\n",
       "      <td>0.210084</td>\n",
       "      <td>0.111400</td>\n",
       "      <td>0.135827</td>\n",
       "    </tr>\n",
       "    <tr>\n",
       "      <th>140485</th>\n",
       "      <td>06b282335bc4853f888e1ab50a6ba23a8e420d42313959...</td>\n",
       "      <td>0.107234</td>\n",
       "      <td>0.284348</td>\n",
       "      <td>0.162956</td>\n",
       "      <td>0.057612</td>\n",
       "    </tr>\n",
       "    <tr>\n",
       "      <th>140486</th>\n",
       "      <td>90d423a25d7cdaf674f7d78bc37d88830443ff17717e02...</td>\n",
       "      <td>0.331785</td>\n",
       "      <td>0.291830</td>\n",
       "      <td>0.282056</td>\n",
       "      <td>0.400546</td>\n",
       "    </tr>\n",
       "    <tr>\n",
       "      <th>140487</th>\n",
       "      <td>f63e55b226d3732b8b4927be8a2cdc7fb88ff2bb0561e2...</td>\n",
       "      <td>0.083323</td>\n",
       "      <td>0.274239</td>\n",
       "      <td>0.097080</td>\n",
       "      <td>0.073587</td>\n",
       "    </tr>\n",
       "  </tbody>\n",
       "</table>\n",
       "<p>140488 rows × 5 columns</p>\n",
       "</div>"
      ],
      "text/plain": [
       "                                                client_id  target_1  target_2  \\\n",
       "0       2b7ff0c1c99cefe259ed83c5dfa0a403f2cbc88032b671...  0.033442  0.196366   \n",
       "1       0433d23e224b7a520656da6181efadb8d556bb293158c9...  0.352488  0.246640   \n",
       "2       f2ce8b292e5f9f778f3e20db7608ac76dc8812113a2631...  0.222972  0.126494   \n",
       "3       4f807e8b163c653bcaeff9f925983568f4c3e6b1a1f231...  0.299434  0.347827   \n",
       "4       64369f6f8ae1b719332ee1bfb2b454e642b2053d2c9b8a...  0.112742  0.225809   \n",
       "...                                                   ...       ...       ...   \n",
       "140483  d49a66825bb16ceb5b6a01126e1f2391b085dba8da44ee...  0.297440  0.187896   \n",
       "140484  f772af6720c0b591d49b97946c5e420c1c077affc0f7c7...  0.114246  0.210084   \n",
       "140485  06b282335bc4853f888e1ab50a6ba23a8e420d42313959...  0.107234  0.284348   \n",
       "140486  90d423a25d7cdaf674f7d78bc37d88830443ff17717e02...  0.331785  0.291830   \n",
       "140487  f63e55b226d3732b8b4927be8a2cdc7fb88ff2bb0561e2...  0.083323  0.274239   \n",
       "\n",
       "        target_3  target_4  \n",
       "0       0.213223  0.028028  \n",
       "1       0.349318  0.259347  \n",
       "2       0.223943  0.259694  \n",
       "3       0.341448  0.365244  \n",
       "4       0.110771  0.046687  \n",
       "...          ...       ...  \n",
       "140483  0.352318  0.268164  \n",
       "140484  0.111400  0.135827  \n",
       "140485  0.162956  0.057612  \n",
       "140486  0.282056  0.400546  \n",
       "140487  0.097080  0.073587  \n",
       "\n",
       "[140488 rows x 5 columns]"
      ]
     },
     "execution_count": 44,
     "metadata": {},
     "output_type": "execute_result"
    }
   ],
   "source": [
    "df_trx"
   ]
  },
  {
   "cell_type": "code",
   "execution_count": 43,
   "id": "97a8c174-5277-4a09-9adb-82a564a240a7",
   "metadata": {},
   "outputs": [],
   "source": [
    "df_trx.to_csv('submission.csv')"
   ]
  }
 ],
 "metadata": {
  "kernelspec": {
   "display_name": "cv",
   "language": "python",
   "name": "python3"
  },
  "language_info": {
   "codemirror_mode": {
    "name": "ipython",
    "version": 3
   },
   "file_extension": ".py",
   "mimetype": "text/x-python",
   "name": "python",
   "nbconvert_exporter": "python",
   "pygments_lexer": "ipython3",
   "version": "3.10.12"
  }
 },
 "nbformat": 4,
 "nbformat_minor": 5
}
