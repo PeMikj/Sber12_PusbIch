{
 "cells": [
  {
   "cell_type": "code",
   "execution_count": 1,
   "id": "9439d8d4-66c0-4a2d-b460-27bfbba29a67",
   "metadata": {},
   "outputs": [],
   "source": [
    "import pandas as pd\n",
    "import numpy as np\n",
    "import random\n",
    "\n",
    "from sklearn.model_selection import GroupShuffleSplit\n",
    "from catboost import CatBoostClassifier\n",
    "\n",
    "from sklearn.decomposition import PCA\n",
    "from sklearn.preprocessing import StandardScaler\n",
    "from sklearn.metrics import roc_auc_score\n",
    "\n",
    "Length = 32"
   ]
  },
  {
   "cell_type": "code",
   "execution_count": 2,
   "id": "3241a0cb-cf76-4eee-9e8c-658e897035b0",
   "metadata": {},
   "outputs": [],
   "source": [
    "dial_train = pd.read_parquet(\"./Hackathon/dial_train.parquet\")\n",
    "dial_test = pd.read_parquet(\"./Hackathon/dial_test.parquet\")\n",
    "train_target = pd.read_parquet(\"./Hackathon/train_target.parquet\")\n",
    "test_target = pd.read_parquet(\"./Hackathon/test_target_b.parquet\")"
   ]
  },
  {
   "cell_type": "code",
   "execution_count": 3,
   "id": "ca34fb9c-23b9-40f8-91b0-4038f0b447e1",
   "metadata": {},
   "outputs": [],
   "source": [
    "dial_train.embedding = dial_train.embedding.apply(lambda x: x[:Length])\n",
    "dial_test.embedding = dial_test.embedding.apply(lambda x: x[:Length])"
   ]
  },
  {
   "cell_type": "code",
   "execution_count": 4,
   "id": "94e68681-b4aa-4fa4-a084-e4e61731934e",
   "metadata": {},
   "outputs": [],
   "source": [
    "dial_train['month_year'] = dial_train['event_time'].dt.to_period('M')\n",
    "dial_train_ = dial_train.groupby(['client_id',\n",
    "                                  'month_year'])['embedding'].apply(lambda x: np.mean(x.tolist(),\n",
    "                                                                                      axis=0)).reset_index()\n",
    "dial_train_['month_year']= dial_train_['month_year'].astype('str')\n",
    "train_target['month_year'] = train_target['mon'].apply(lambda x: x[:-3])\n",
    "train_data = pd.merge(train_target, dial_train_, on=['client_id',\n",
    "                                                     'month_year'], how='left')\n",
    "train_data.drop(columns=['month_year'], inplace=True)"
   ]
  },
  {
   "cell_type": "code",
   "execution_count": 5,
   "id": "e2f163f6-8bf8-44d8-ab67-6abeb8bea561",
   "metadata": {},
   "outputs": [],
   "source": [
    "dial_test['month_year'] = dial_test['event_time'].dt.to_period('M')\n",
    "dial_test_ = dial_test.groupby(['client_id',\n",
    "                                  'month_year'])['embedding'].apply(lambda x: np.mean(x.tolist(),\n",
    "                                                                                      axis=0)).reset_index()\n",
    "dial_test_['month_year']= dial_test_['month_year'].astype('str')\n",
    "test_target['month_year'] = test_target['mon'].apply(lambda x: x[:-3])\n",
    "test_data = pd.merge(test_target, dial_test_, on=['client_id',\n",
    "                                                     'month_year'], how='left')\n",
    "test_data.drop(columns=['month_year'], inplace=True)"
   ]
  },
  {
   "cell_type": "code",
   "execution_count": 6,
   "id": "37d9618c-4aca-40df-8049-1b5f3f5a289e",
   "metadata": {},
   "outputs": [],
   "source": [
    "test_data = test_data.fillna('nan')\n",
    "test_data.embedding = test_data.embedding.apply(lambda x: x \n",
    "                                                if (type(x) != str) \n",
    "                                                else np.zeros((Length,)))\n",
    "test_data.embedding = test_data.embedding.apply(lambda x: x.astype(float))"
   ]
  },
  {
   "cell_type": "code",
   "execution_count": 7,
   "id": "8cd54c04-977a-444b-a45d-00c9b75a9ddf",
   "metadata": {},
   "outputs": [],
   "source": [
    "splitter = GroupShuffleSplit(test_size=.3, n_splits=2, random_state = 7)\n",
    "split = splitter.split(train_data, groups=train_data['client_id'])\n",
    "train_inds, test_inds = next(split)\n",
    "\n",
    "train = train_data.iloc[train_inds]\n",
    "test = train_data.iloc[test_inds]"
   ]
  },
  {
   "cell_type": "code",
   "execution_count": 8,
   "id": "3b70ff55-ec1f-42bf-9dd4-deecfa0f4b2a",
   "metadata": {},
   "outputs": [
    {
     "name": "stderr",
     "output_type": "stream",
     "text": [
      "/tmp/ipykernel_202165/1257912023.py:1: SettingWithCopyWarning: \n",
      "A value is trying to be set on a copy of a slice from a DataFrame.\n",
      "Try using .loc[row_indexer,col_indexer] = value instead\n",
      "\n",
      "See the caveats in the documentation: https://pandas.pydata.org/pandas-docs/stable/user_guide/indexing.html#returning-a-view-versus-a-copy\n",
      "  train['embedding'] = train['embedding'].apply(lambda x: 'nan' if (type(x)==float and random.random() > 0.9) else x)\n"
     ]
    }
   ],
   "source": [
    "train['embedding'] = train['embedding'].apply(lambda x: 'nan'\n",
    "                                              if (type(x)==float and random.random() > 0.9)\n",
    "                                              else x)\n",
    "train = train.dropna()"
   ]
  },
  {
   "cell_type": "code",
   "execution_count": 9,
   "id": "3ef5a0b4-ea39-4864-99b0-ddc3d9e43f3c",
   "metadata": {},
   "outputs": [],
   "source": [
    "X_train = train.drop(columns=['target_1', 'target_2', 'target_3', 'target_4',\n",
    "                              'mon', 'client_id'])\n",
    "y_train = train[['target_1', 'target_2', 'target_3', 'target_4']]\n",
    "\n",
    "X_test = test.drop(columns=['target_1', 'target_2', 'target_3', 'target_4',\n",
    "                            'mon', 'client_id'])\n",
    "y_test = test[['target_1', 'target_2', 'target_3', 'target_4']]"
   ]
  },
  {
   "cell_type": "code",
   "execution_count": 10,
   "id": "4dfd5c01-f39d-4111-b671-2090614a32ba",
   "metadata": {},
   "outputs": [],
   "source": [
    "clf = CatBoostClassifier(verbose=100,\n",
    "                     loss_function='MultiLogloss',\n",
    "                    task_type='GPU',\n",
    "                    embedding_features=['embedding']\n",
    "                    )"
   ]
  },
  {
   "cell_type": "code",
   "execution_count": 11,
   "id": "02039341-22bc-49ad-b8ac-e7d36ceda475",
   "metadata": {},
   "outputs": [],
   "source": [
    "X_train.embedding = X_train.embedding.apply(lambda x: x \n",
    "                                            if (type(x) != str) \n",
    "                                            else np.zeros((Length,)))\n",
    "X_train.embedding = X_train.embedding.apply(lambda x: x.astype(float))"
   ]
  },
  {
   "cell_type": "code",
   "execution_count": 12,
   "id": "f4dbe257-65da-4758-820f-714f1f9cfc03",
   "metadata": {
    "collapsed": true,
    "jupyter": {
     "outputs_hidden": true
    }
   },
   "outputs": [
    {
     "name": "stdout",
     "output_type": "stream",
     "text": [
      "Learning rate set to 0.022641\n"
     ]
    },
    {
     "ename": "KeyboardInterrupt",
     "evalue": "",
     "output_type": "error",
     "traceback": [
      "\u001b[0;31m---------------------------------------------------------------------------\u001b[0m",
      "\u001b[0;31mKeyboardInterrupt\u001b[0m                         Traceback (most recent call last)",
      "Cell \u001b[0;32mIn[12], line 1\u001b[0m\n\u001b[0;32m----> 1\u001b[0m \u001b[43mclf\u001b[49m\u001b[38;5;241;43m.\u001b[39;49m\u001b[43mfit\u001b[49m\u001b[43m(\u001b[49m\u001b[43mX_train\u001b[49m\u001b[43m,\u001b[49m\u001b[43m \u001b[49m\u001b[43my_train\u001b[49m\u001b[43m)\u001b[49m\n",
      "File \u001b[0;32m~/venvs/sinara/lib/python3.10/site-packages/catboost/core.py:5201\u001b[0m, in \u001b[0;36mCatBoostClassifier.fit\u001b[0;34m(self, X, y, cat_features, text_features, embedding_features, sample_weight, baseline, use_best_model, eval_set, verbose, logging_level, plot, plot_file, column_description, verbose_eval, metric_period, silent, early_stopping_rounds, save_snapshot, snapshot_file, snapshot_interval, init_model, callbacks, log_cout, log_cerr)\u001b[0m\n\u001b[1;32m   5198\u001b[0m \u001b[38;5;28;01mif\u001b[39;00m \u001b[38;5;124m'\u001b[39m\u001b[38;5;124mloss_function\u001b[39m\u001b[38;5;124m'\u001b[39m \u001b[38;5;129;01min\u001b[39;00m params:\n\u001b[1;32m   5199\u001b[0m     CatBoostClassifier\u001b[38;5;241m.\u001b[39m_check_is_compatible_loss(params[\u001b[38;5;124m'\u001b[39m\u001b[38;5;124mloss_function\u001b[39m\u001b[38;5;124m'\u001b[39m])\n\u001b[0;32m-> 5201\u001b[0m \u001b[38;5;28;43mself\u001b[39;49m\u001b[38;5;241;43m.\u001b[39;49m\u001b[43m_fit\u001b[49m\u001b[43m(\u001b[49m\u001b[43mX\u001b[49m\u001b[43m,\u001b[49m\u001b[43m \u001b[49m\u001b[43my\u001b[49m\u001b[43m,\u001b[49m\u001b[43m \u001b[49m\u001b[43mcat_features\u001b[49m\u001b[43m,\u001b[49m\u001b[43m \u001b[49m\u001b[43mtext_features\u001b[49m\u001b[43m,\u001b[49m\u001b[43m \u001b[49m\u001b[43membedding_features\u001b[49m\u001b[43m,\u001b[49m\u001b[43m \u001b[49m\u001b[38;5;28;43;01mNone\u001b[39;49;00m\u001b[43m,\u001b[49m\u001b[43m \u001b[49m\u001b[43msample_weight\u001b[49m\u001b[43m,\u001b[49m\u001b[43m \u001b[49m\u001b[38;5;28;43;01mNone\u001b[39;49;00m\u001b[43m,\u001b[49m\u001b[43m \u001b[49m\u001b[38;5;28;43;01mNone\u001b[39;49;00m\u001b[43m,\u001b[49m\u001b[43m \u001b[49m\u001b[38;5;28;43;01mNone\u001b[39;49;00m\u001b[43m,\u001b[49m\u001b[43m \u001b[49m\u001b[38;5;28;43;01mNone\u001b[39;49;00m\u001b[43m,\u001b[49m\u001b[43m \u001b[49m\u001b[43mbaseline\u001b[49m\u001b[43m,\u001b[49m\u001b[43m \u001b[49m\u001b[43muse_best_model\u001b[49m\u001b[43m,\u001b[49m\n\u001b[1;32m   5202\u001b[0m \u001b[43m          \u001b[49m\u001b[43meval_set\u001b[49m\u001b[43m,\u001b[49m\u001b[43m \u001b[49m\u001b[43mverbose\u001b[49m\u001b[43m,\u001b[49m\u001b[43m \u001b[49m\u001b[43mlogging_level\u001b[49m\u001b[43m,\u001b[49m\u001b[43m \u001b[49m\u001b[43mplot\u001b[49m\u001b[43m,\u001b[49m\u001b[43m \u001b[49m\u001b[43mplot_file\u001b[49m\u001b[43m,\u001b[49m\u001b[43m \u001b[49m\u001b[43mcolumn_description\u001b[49m\u001b[43m,\u001b[49m\u001b[43m \u001b[49m\u001b[43mverbose_eval\u001b[49m\u001b[43m,\u001b[49m\u001b[43m \u001b[49m\u001b[43mmetric_period\u001b[49m\u001b[43m,\u001b[49m\n\u001b[1;32m   5203\u001b[0m \u001b[43m          \u001b[49m\u001b[43msilent\u001b[49m\u001b[43m,\u001b[49m\u001b[43m \u001b[49m\u001b[43mearly_stopping_rounds\u001b[49m\u001b[43m,\u001b[49m\u001b[43m \u001b[49m\u001b[43msave_snapshot\u001b[49m\u001b[43m,\u001b[49m\u001b[43m \u001b[49m\u001b[43msnapshot_file\u001b[49m\u001b[43m,\u001b[49m\u001b[43m \u001b[49m\u001b[43msnapshot_interval\u001b[49m\u001b[43m,\u001b[49m\u001b[43m \u001b[49m\u001b[43minit_model\u001b[49m\u001b[43m,\u001b[49m\u001b[43m \u001b[49m\u001b[43mcallbacks\u001b[49m\u001b[43m,\u001b[49m\u001b[43m \u001b[49m\u001b[43mlog_cout\u001b[49m\u001b[43m,\u001b[49m\u001b[43m \u001b[49m\u001b[43mlog_cerr\u001b[49m\u001b[43m)\u001b[49m\n\u001b[1;32m   5204\u001b[0m \u001b[38;5;28;01mreturn\u001b[39;00m \u001b[38;5;28mself\u001b[39m\n",
      "File \u001b[0;32m~/venvs/sinara/lib/python3.10/site-packages/catboost/core.py:2396\u001b[0m, in \u001b[0;36mCatBoost._fit\u001b[0;34m(self, X, y, cat_features, text_features, embedding_features, pairs, sample_weight, group_id, group_weight, subgroup_id, pairs_weight, baseline, use_best_model, eval_set, verbose, logging_level, plot, plot_file, column_description, verbose_eval, metric_period, silent, early_stopping_rounds, save_snapshot, snapshot_file, snapshot_interval, init_model, callbacks, log_cout, log_cerr)\u001b[0m\n\u001b[1;32m   2393\u001b[0m allow_clear_pool \u001b[38;5;241m=\u001b[39m train_params[\u001b[38;5;124m\"\u001b[39m\u001b[38;5;124mallow_clear_pool\u001b[39m\u001b[38;5;124m\"\u001b[39m]\n\u001b[1;32m   2395\u001b[0m \u001b[38;5;28;01mwith\u001b[39;00m plot_wrapper(plot, plot_file, \u001b[38;5;124m'\u001b[39m\u001b[38;5;124mTraining plots\u001b[39m\u001b[38;5;124m'\u001b[39m, [_get_train_dir(\u001b[38;5;28mself\u001b[39m\u001b[38;5;241m.\u001b[39mget_params())]):\n\u001b[0;32m-> 2396\u001b[0m     \u001b[38;5;28;43mself\u001b[39;49m\u001b[38;5;241;43m.\u001b[39;49m\u001b[43m_train\u001b[49m\u001b[43m(\u001b[49m\n\u001b[1;32m   2397\u001b[0m \u001b[43m        \u001b[49m\u001b[43mtrain_pool\u001b[49m\u001b[43m,\u001b[49m\n\u001b[1;32m   2398\u001b[0m \u001b[43m        \u001b[49m\u001b[43mtrain_params\u001b[49m\u001b[43m[\u001b[49m\u001b[38;5;124;43m\"\u001b[39;49m\u001b[38;5;124;43meval_sets\u001b[39;49m\u001b[38;5;124;43m\"\u001b[39;49m\u001b[43m]\u001b[49m\u001b[43m,\u001b[49m\n\u001b[1;32m   2399\u001b[0m \u001b[43m        \u001b[49m\u001b[43mparams\u001b[49m\u001b[43m,\u001b[49m\n\u001b[1;32m   2400\u001b[0m \u001b[43m        \u001b[49m\u001b[43mallow_clear_pool\u001b[49m\u001b[43m,\u001b[49m\n\u001b[1;32m   2401\u001b[0m \u001b[43m        \u001b[49m\u001b[43mtrain_params\u001b[49m\u001b[43m[\u001b[49m\u001b[38;5;124;43m\"\u001b[39;49m\u001b[38;5;124;43minit_model\u001b[39;49m\u001b[38;5;124;43m\"\u001b[39;49m\u001b[43m]\u001b[49m\n\u001b[1;32m   2402\u001b[0m \u001b[43m    \u001b[49m\u001b[43m)\u001b[49m\n\u001b[1;32m   2404\u001b[0m \u001b[38;5;66;03m# Have property feature_importance possibly set\u001b[39;00m\n\u001b[1;32m   2405\u001b[0m loss \u001b[38;5;241m=\u001b[39m \u001b[38;5;28mself\u001b[39m\u001b[38;5;241m.\u001b[39m_object\u001b[38;5;241m.\u001b[39m_get_loss_function_name()\n",
      "File \u001b[0;32m~/venvs/sinara/lib/python3.10/site-packages/catboost/core.py:1776\u001b[0m, in \u001b[0;36m_CatBoostBase._train\u001b[0;34m(self, train_pool, test_pool, params, allow_clear_pool, init_model)\u001b[0m\n\u001b[1;32m   1775\u001b[0m \u001b[38;5;28;01mdef\u001b[39;00m \u001b[38;5;21m_train\u001b[39m(\u001b[38;5;28mself\u001b[39m, train_pool, test_pool, params, allow_clear_pool, init_model):\n\u001b[0;32m-> 1776\u001b[0m     \u001b[38;5;28;43mself\u001b[39;49m\u001b[38;5;241;43m.\u001b[39;49m\u001b[43m_object\u001b[49m\u001b[38;5;241;43m.\u001b[39;49m\u001b[43m_train\u001b[49m\u001b[43m(\u001b[49m\u001b[43mtrain_pool\u001b[49m\u001b[43m,\u001b[49m\u001b[43m \u001b[49m\u001b[43mtest_pool\u001b[49m\u001b[43m,\u001b[49m\u001b[43m \u001b[49m\u001b[43mparams\u001b[49m\u001b[43m,\u001b[49m\u001b[43m \u001b[49m\u001b[43mallow_clear_pool\u001b[49m\u001b[43m,\u001b[49m\u001b[43m \u001b[49m\u001b[43minit_model\u001b[49m\u001b[38;5;241;43m.\u001b[39;49m\u001b[43m_object\u001b[49m\u001b[43m \u001b[49m\u001b[38;5;28;43;01mif\u001b[39;49;00m\u001b[43m \u001b[49m\u001b[43minit_model\u001b[49m\u001b[43m \u001b[49m\u001b[38;5;28;43;01melse\u001b[39;49;00m\u001b[43m \u001b[49m\u001b[38;5;28;43;01mNone\u001b[39;49;00m\u001b[43m)\u001b[49m\n\u001b[1;32m   1777\u001b[0m     \u001b[38;5;28mself\u001b[39m\u001b[38;5;241m.\u001b[39m_set_trained_model_attributes()\n",
      "File \u001b[0;32m_catboost.pyx:4833\u001b[0m, in \u001b[0;36m_catboost._CatBoost._train\u001b[0;34m()\u001b[0m\n",
      "File \u001b[0;32m_catboost.pyx:4882\u001b[0m, in \u001b[0;36m_catboost._CatBoost._train\u001b[0;34m()\u001b[0m\n",
      "\u001b[0;31mKeyboardInterrupt\u001b[0m: "
     ]
    }
   ],
   "source": [
    "clf.fit(X_train, y_train)"
   ]
  },
  {
   "cell_type": "code",
   "execution_count": null,
   "id": "1a89b5ac-3b2e-4c94-8771-bf440ba0569a",
   "metadata": {},
   "outputs": [],
   "source": [
    "X_test = X_test.fillna('nan')\n",
    "X_test.embedding = X_test.embedding.apply(lambda x: x \n",
    "                                          if (type(x) != str) \n",
    "                                          else np.zeros((Length,)))\n",
    "X_test.embedding = X_test.embedding.apply(lambda x: x.astype(float))"
   ]
  },
  {
   "cell_type": "code",
   "execution_count": null,
   "id": "065e149a-16f8-4113-896a-732f7adb54d3",
   "metadata": {},
   "outputs": [],
   "source": [
    "preds = clf.predict_proba(X_test)\n",
    "roc_auc = roc_auc_score(y_test, preds)\n",
    "roc_auc"
   ]
  },
  {
   "cell_type": "code",
   "execution_count": 35,
   "id": "6c2f3568-9a77-4e00-81b3-ac306099cadf",
   "metadata": {},
   "outputs": [],
   "source": [
    "test_data.embedding = test_data.embedding.apply(lambda x: x.astype(float))\n",
    "test_preds = clf.predict_proba(pd.DataFrame(test_data.embedding))\n",
    "test_data[['target_1', 'target_2', 'target_3', 'target_4']] = test_preds\n",
    "test_data = test_data.drop(columns=['embedding'])\n",
    "test_data = test_data.groupby('client_id')[['target_1', 'target_2', 'target_3', 'target_4']].mean().reset_index()"
   ]
  },
  {
   "cell_type": "code",
   "execution_count": 52,
   "id": "59774a6c-bf41-448b-ae14-303433f57660",
   "metadata": {},
   "outputs": [],
   "source": [
    "submit_df = pd.DataFrame({\"client_id\": test_target[\"client_id\"].unique()}).merge(test_data, how=\"left\").fillna(0)\n",
    "submit_df.to_csv('df_dial.csv')"
   ]
  }
 ],
 "metadata": {
  "kernelspec": {
   "display_name": "cv",
   "language": "python",
   "name": "python3"
  },
  "language_info": {
   "codemirror_mode": {
    "name": "ipython",
    "version": 3
   },
   "file_extension": ".py",
   "mimetype": "text/x-python",
   "name": "python",
   "nbconvert_exporter": "python",
   "pygments_lexer": "ipython3",
   "version": "3.10.12"
  }
 },
 "nbformat": 4,
 "nbformat_minor": 5
}
